{
 "cells": [
  {
   "cell_type": "markdown",
   "metadata": {
    "hide_input": true
   },
   "source": [
    "## Flow field\n"
   ]
  },
  {
   "cell_type": "markdown",
   "metadata": {},
   "source": [
    "\\begin{eqnarray}\n",
    "u_1=2\\,x_1 + t \\\\\n",
    "u_2=x_2 -2 t \n",
    "\\end{eqnarray}"
   ]
  },
  {
   "cell_type": "code",
   "execution_count": 2,
   "metadata": {
    "hide_input": true,
    "scrolled": false
   },
   "outputs": [
    {
     "data": {
      "application/vnd.jupyter.widget-view+json": {
       "model_id": "b9e57f96bb9f4c72b416cd6ca5eea8bc",
       "version_major": 2,
       "version_minor": 0
      },
      "text/plain": [
       "HBox(children=(Checkbox(value=False, description='Streamline'), Checkbox(value=False, description='Pathline st…"
      ]
     },
     "metadata": {},
     "output_type": "display_data"
    },
    {
     "data": {
      "application/vnd.jupyter.widget-view+json": {
       "model_id": "0d9b076c07e94ac181e3adcf108cd3d8",
       "version_major": 2,
       "version_minor": 0
      },
      "text/plain": [
       "FloatSlider(value=2.0, description='time', max=5.0, min=-5.0, step=0.25)"
      ]
     },
     "metadata": {},
     "output_type": "display_data"
    },
    {
     "data": {
      "application/vnd.jupyter.widget-view+json": {
       "model_id": "58650e94222146d18b2c19abdecc03ff",
       "version_major": 2,
       "version_minor": 0
      },
      "text/plain": [
       "Output(layout=Layout(height='500px', width='800px'))"
      ]
     },
     "metadata": {},
     "output_type": "display_data"
    }
   ],
   "source": [
    "#standard boilerplate for Python\n",
    "%matplotlib inline\n",
    "import numpy as np\n",
    "from matplotlib.pyplot import cm\n",
    "from IPython import display #for continous display\n",
    "import matplotlib.pyplot as plt #plotting\n",
    "from ipywidgets import widgets #for the widgets\n",
    "from ipywidgets import Output \n",
    "from scipy.integrate import odeint\n",
    "from ipywidgets import Layout\n",
    "\n",
    "def myvelfield(y,tau):\n",
    "    tg=w_time.value\n",
    "    return [2.*y[0]+tg,y[1]-2.*tg]\n",
    "\n",
    "def myvelfieldpath(y,tau):\n",
    "    return [2.*y[0]+tau,y[1]-2.*tau]\n",
    "\n",
    "def mystreamline(x0,y0):\n",
    "    y=odeint(myvelfield,[x0, y0],np.linspace(0.,5.,100))\n",
    "    return [y[:,0],y[:,1]]\n",
    "\n",
    "def mypathline(x0,y0):\n",
    "    y=odeint(myvelfieldpath,[x0, y0],np.linspace(0.,1.,100))\n",
    "    return [y[:,0],y[:,1]]\n",
    "\n",
    "def mystreakline(x0,y0,t):\n",
    "    dt=0.001\n",
    "    tcalc=np.linspace(t-2.,t-dt,100)\n",
    "    xs=[]; ys=[]\n",
    "    for tstart in tcalc:\n",
    "        y=odeint(myvelfieldpath,[x0, y0],np.linspace(tstart,t,5))\n",
    "        xs.append(y[-1,0])\n",
    "        ys.append(y[-1,1])\n",
    "    return [xs,ys]\n",
    "\n",
    "def pltpath():\n",
    "    for pos in seedpoints:\n",
    "        [xs,ys]=mypathline(pos[0], pos[1])\n",
    "        ax.plot(xs, ys,'g',linewidth=3)\n",
    "\n",
    "def pltstreak(t):\n",
    "    for pos in seedpoints:\n",
    "        [xs,ys]=mystreakline(pos[0], pos[1],t)\n",
    "        ax.plot(xs, ys,'or-',linewidth=3)\n",
    "    \n",
    "def pltstream(t):\n",
    "    for pos in seedpoints:\n",
    "        [xs,ys]=mystreamline(pos[0], pos[1])\n",
    "        ax.plot(xs, ys,'b',linewidth=3)\n",
    "        \n",
    "        \n",
    "def plotall(newvalue):\n",
    "    tg=w_time.value\n",
    "    t=w_time.value\n",
    "    #plot velocity field with arrows\n",
    "    \n",
    "    ax.clear()\n",
    "    tau=np.linspace(0.,1.0,100)\n",
    "    U = 2.*xx+tg\n",
    "    V = yy-2.*tg\n",
    "    Q = ax.quiver(xx, yy, U, V, np.sqrt(U*U+V*V),cmap=cm.coolwarm)\n",
    "    ax.axis('tight')\n",
    "    \n",
    "    for pos in seedpoints:\n",
    "        ax.plot(pos[0], pos[1], 'o', markersize=15, color='#808080')\n",
    "    #plot stream lines\n",
    "    if (w_stream.value):\n",
    "        pltstream(t)\n",
    "    #plot path lines\n",
    "    if (w_path.value):\n",
    "        pltpath()\n",
    "    #plot streak lines\n",
    "    if (w_streak.value):\n",
    "        pltstreak(t)\n",
    "    ax.text(0.5,1.8,'Streamline',fontsize=25,color='b')\n",
    "    ax.text(0.5,1.6,'Pathline',fontsize=25,color='g')\n",
    "    ax.text(0.5,1.4,'Streakline',fontsize=25,color='r')\n",
    "    ax.set_xlim([-1.,1.])\n",
    "    ax.set_ylim([0.,2.])\n",
    "    ax.figure.set_figheight(8)\n",
    "    ax.figure.set_figwidth(11)\n",
    "    with out:\n",
    "        display.clear_output(wait=True)\n",
    "        display.display(ax.figure)\n",
    "\n",
    "xstart=0\n",
    "ystart=-1 #start of grid in x and y-direction\n",
    "xend=2\n",
    "yend=1 #end of grid in x and y-direction \n",
    "steps=35 #number of gridpoints\n",
    "h=(xend-xstart)/(steps-1.) #gridspacing\n",
    "#generate two grids (note the return order yy,xx)\n",
    "yy,xx=np.mgrid[xstart:xend:steps*1j,ystart:yend:steps*1j] \n",
    "\n",
    "seedpoints=[[0.5,0.5],[0.,1.],[-.5,0.5]]\n",
    "plt.ioff()\n",
    "ax=plt.gca()\n",
    "w_time=widgets.FloatSlider(min=-5,max=5.,step=.25,\\\n",
    "                                       value=2,description='time')\n",
    "w_stream = widgets.Checkbox(description='Streamline',margin=10)\n",
    "w_path = widgets.Checkbox(description='Pathline starts at t=0',margin=10)\n",
    "w_streak = widgets.Checkbox(description='Streakline at t=time',margin=10)\n",
    "w_checks=widgets.HBox([w_stream,w_path,w_streak])\n",
    "w_stream.observe(plotall, names='value')\n",
    "w_streak.observe(plotall, names='value')\n",
    "w_path.observe(plotall, names='value')\n",
    "w_time.observe(plotall, names='value')\n",
    "out=widgets.Output(layout=Layout(height='500px', width = '800px'))\n",
    "display.display(w_checks);\n",
    "display.display(w_time)\n",
    "display.display(out)\n",
    "plotall(False)"
   ]
  },
  {
   "cell_type": "code",
   "execution_count": null,
   "metadata": {},
   "outputs": [],
   "source": []
  }
 ],
 "metadata": {
  "kernelspec": {
   "display_name": "Python 3 (ipykernel)",
   "language": "python",
   "name": "python3"
  },
  "language_info": {
   "codemirror_mode": {
    "name": "ipython",
    "version": 3
   },
   "file_extension": ".py",
   "mimetype": "text/x-python",
   "name": "python",
   "nbconvert_exporter": "python",
   "pygments_lexer": "ipython3",
   "version": "3.9.12"
  },
  "widgets": {
   "state": {
    "319008b445274b65a6b4a2acf1ecf649": {
     "views": [
      {
       "cell_index": 1
      }
     ]
    },
    "7215101ebeeb44a4985ddf9a089a0c32": {
     "views": [
      {
       "cell_index": 1
      }
     ]
    },
    "b6d7321e7bcc4696827dae6a58e32fd3": {
     "views": [
      {
       "cell_index": 1
      }
     ]
    }
   },
   "version": "1.2.0"
  }
 },
 "nbformat": 4,
 "nbformat_minor": 1
}
