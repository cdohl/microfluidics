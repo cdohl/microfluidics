{
 "cells": [
  {
   "cell_type": "markdown",
   "metadata": {},
   "source": [
    "## Tutorial 4 \n",
    "Please hand in your solution before the tutorial on 25.5.2021.\n",
    "\n",
    "### Question 1\n",
    "<img src=\"pics/inclined_flow.png\" width=500> \n",
    "\n",
    "* Derive the Navier Stokes Solution to the steady flow of a film of liquid of uniform thickness $h$ that flows done an incline (dark gray) under an angle $\\alpha$. Use the fact that there is no pressure gradient driving the flow (why?). Also set the $x$-axis parallel to the incline and choose a suitable body force.\n",
    "\n",
    "* Let the liquid be water and calculate the speed $v_x(h)$ of the free surface of the film in the case $h=100\\,\\mu$m und angle $\\alpha=30^\\circ$.\n",
    "\n",
    "### Question 2\n",
    "\n",
    "* Generate a fine spray, e.g. by spray bottle, in front of a dark background and illuminate the mist of droplets from the side with a lamp. Record the droplets that scatter this light with a camerea/handphonse and measure their sink velocity. Determine the size of the droplets using Stokes settling velocity.\n",
    "\n",
    "### Question 3\n",
    "\n",
    "* Aerosols are fine droplets in the air that may contain viral load. In the current pandemic researcher are trying to understand the transport of these droplets. In a quiestence room with no drift (net flow) of the air, droplets may fall by gravity. Calculate and plot the fall time of an aequous droplet from $100\\,$nm to $10\\,\\mu$m spherical droplet in air for a distance of $30\\,$cm. Check and compare your findings with a recent [paper](https://www.pnas.org/content/early/2020/05/12/2006874117). Comment critically this paper."
   ]
  }
 ],
 "metadata": {
  "kernelspec": {
   "display_name": "Python [conda env:mypython3]",
   "language": "python",
   "name": "conda-env-mypython3-py"
  },
  "language_info": {
   "codemirror_mode": {
    "name": "ipython",
    "version": 3
   },
   "file_extension": ".py",
   "mimetype": "text/x-python",
   "name": "python",
   "nbconvert_exporter": "python",
   "pygments_lexer": "ipython3",
   "version": "3.7.3"
  }
 },
 "nbformat": 4,
 "nbformat_minor": 2
}
