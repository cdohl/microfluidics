{
 "cells": [
  {
   "cell_type": "markdown",
   "metadata": {},
   "source": [
    "## Tutorial 1 Microfluidics (Claus-Dieter Ohl) \n",
    "\n",
    "\n",
    "### Problem 1: Streamlines\n",
    "\n",
    "Given is the following flow field: \n",
    "\n",
    "\\begin{eqnarray}\n",
    "u&=&a\\,x\\\\\n",
    "v&=&-ay \\quad \\mathrm{where}\\, a=\\mathrm{const}>0\\quad .\n",
    "\\end{eqnarray}\n",
    "\n",
    "\n",
    "a) Find an equation for the streamline that passes through a point $(x_0,y_0)$. In which direction moves a fluid particle? If it orginates from a location $y_0>0$ does the particle pass through the horizontal line $y=0$. Where is the stagnation point? What kind of flow could that be?\n",
    "\n",
    "b) Plot the flow field (arrow or `plt.quiver` plot for $x\\ge0$). For $x_0=1$ and $y_0=1$, plot a streamline passing through this point. Then, plot through nearby points a few more streamlines to illustrate the flow field. Observe the density of streamlines in the plot? Can you connect the density of streamline with a local property of the flow?\n",
    "\n",
    "\n",
    "### Problem 2: Streamline, Pathlines, Streaklines\n",
    "\n",
    "a) Find picture/video examples for streamlines, pathlines and streaklines.\n",
    "\n",
    "b) Use [interactive example](Example%20of%20Stream-Streak-Pathlines.ipynb) to visualize the three lines. Explain, why all three lines are similar close to their starting point (grey dot)\n",
    "\n",
    "c) Study the program and find out how the three type of lines are calculated.\n",
    "\n",
    "d) Modify the program that the lines start from a different location. If you are a keen programmer, allow the user to choose the starting point.\n"
   ]
  }
 ],
 "metadata": {
  "kernelspec": {
   "display_name": "Python [conda env:mypython3]",
   "language": "python",
   "name": "conda-env-mypython3-py"
  },
  "language_info": {
   "codemirror_mode": {
    "name": "ipython",
    "version": 3
   },
   "file_extension": ".py",
   "mimetype": "text/x-python",
   "name": "python",
   "nbconvert_exporter": "python",
   "pygments_lexer": "ipython3",
   "version": "3.7.3"
  }
 },
 "nbformat": 4,
 "nbformat_minor": 4
}
