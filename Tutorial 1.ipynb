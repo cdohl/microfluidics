{
 "cells": [
  {
   "cell_type": "markdown",
   "metadata": {},
   "source": [
    "## Tutorial 1 Microfluidics (Claus-Dieter Ohl, Fabian Reuter) \n",
    "\n",
    "Please hand in your solutions to problem 1 \\& 2 before the tutorial 13.4.2021 by sending it to claus-dieter.ohl@ovgu.de .\n",
    "\n",
    "### Problem 1: Streamlines\n",
    "\n",
    "Given is the following flow field: \n",
    "\n",
    "\\begin{eqnarray}\n",
    "u&=&a\\,x\\\\\n",
    "v&=&-ay \\quad \\mathrm{where}\\, a=\\mathrm{const}>0\\quad .\n",
    "\\end{eqnarray}\n",
    "\n",
    "\n",
    "a) Find an equation for the streamline that passes through a point $(x_0,y_0)$. In which direction moves a fluid particle? If it orginates from a location $y_0>0$ does the particle pass through the horizontal line $y=0$. Where is the stagnation point? What kind of flow could that be?\n",
    "\n",
    "b) Plot the flow field (arrow or `plt.quiver` plot for $x\\ge0$). For $x_0=1$ and $y_0=1$, plot a streamline passing through this point. Then, plot through nearby points a few more streamlines to illustrate the flow field. Observe the density of streamlines in the plot? Can you connect the density of streamline with a local property of the flow?\n",
    "\n",
    "### Problem 2: Microfluidics at home\n",
    "\n",
    "**A kitchen experiment:**\n",
    "\n",
    "Take a plate and add a few millimeters of water. Carefully grind some pepper onto the water surface such that it does not submerge. Now add a tiny amount of dishwashing detergent (centrally) on top of the water surface. This can be done nicely by wetting a tooth pick with the detergent and then dip the tooth pick at the center of the plate.\n",
    "\n",
    "Then the pepper particles move rather quickly.\n",
    "\n",
    "Use your smartphone or a camera to record the motion and determine the velocity of the pepper particles from the video. The program `ImageJ` may be helpful for your data evaluation, but you may also find Matlab or Python suitable. Take care to observe the motion perpendicular to the surface to avoid any parallaxes. What is observed (streaklines or pathlines)? Also estimate the accuracy in your measurement. Prepare a short report (about 1 page including a photo) or a PowerPoint presentation of your findings. Try to gether some background information on the driving force of the pepper particles."
   ]
  }
 ],
 "metadata": {
  "kernelspec": {
   "display_name": "Python 3",
   "language": "python",
   "name": "python3"
  },
  "language_info": {
   "codemirror_mode": {
    "name": "ipython",
    "version": 3
   },
   "file_extension": ".py",
   "mimetype": "text/x-python",
   "name": "python",
   "nbconvert_exporter": "python",
   "pygments_lexer": "ipython3",
   "version": "3.8.5"
  }
 },
 "nbformat": 4,
 "nbformat_minor": 4
}
