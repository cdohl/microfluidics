{
 "cells": [
  {
   "cell_type": "markdown",
   "metadata": {},
   "source": [
    "## Tutorial 3 Microfluidics\n",
    "### Claus-Dieter Ohl & Fabian Reuter (please hand before the tutorial on 11.5.2021)\n",
    "\n",
    "1. **Navier Stokes Equation**\n",
    "\n",
    "Repeat the Navier Stokes derivation for a tube now for 2 concentric tubes with radii $r_i$ and $r_o$.  \n",
    "<img src=\"pics/concentric tubes.png\" width=400> \n",
    "Show that the flow velocity in $z$-direction is \n",
    "$$\n",
    "u_z(r)=\\frac{1}{4\\mu}\\frac{\\mathrm{d}p}{\\mathrm{d}z}\\left(r^2-r_o^2+\\frac{r_i^2-r_o^2}{\\ln \\frac{r_o}{r_i}}\\ln\\left[\\frac{r}{r_i}\\right]\\right)\\quad .$$\n",
    "\n",
    "\n",
    "2. **Kitchen Experiment: Wetting of Paper**\n",
    "\n",
    "Take a porous papers such as blotting paper (in German \"Löschpapier\"), or a kitchen paper. Place is straight and horizontal on a plate. Wet the center of the paper point-like with dyed color, e.g. place a small drop of ink or food coloring with a tooth pick or similar. Record the spreading of the ink. Then plot the distance of the border of the ink from the center as a function of time. \n",
    "Here you may use a handphone that is fixed in space for the duration of the experiement and take pictures. Load the pictures into ImageJ and determine radius of circle covering the border. You can use the measuring tool build into imageJ. Calibrate your distance of the camera, e.g. in mm pixel.\n",
    "\n",
    "Plot the radius of the blob as function of time, $t$, and as a function of $\\sqrt{t}$.\n",
    "\n",
    "3. **Kitchen Experiment: Wetting of Paper with Gravity**\n",
    "\n",
    "Repeat exeriment in Question 2, but now with the paper arranged vertically. Place the bottom of the paper in thin pool of ink such that the ink travels upwards. Again measure the distance the color border travels as a function of time and plot it. Does it move faster, slower or similarily? Discuss.\n"
   ]
  },
  {
   "cell_type": "code",
   "execution_count": null,
   "metadata": {},
   "outputs": [],
   "source": []
  }
 ],
 "metadata": {
  "kernelspec": {
   "display_name": "Python 3",
   "language": "python",
   "name": "python3"
  },
  "language_info": {
   "codemirror_mode": {
    "name": "ipython",
    "version": 3
   },
   "file_extension": ".py",
   "mimetype": "text/x-python",
   "name": "python",
   "nbconvert_exporter": "python",
   "pygments_lexer": "ipython3",
   "version": "3.8.5"
  }
 },
 "nbformat": 4,
 "nbformat_minor": 2
}
