{
 "cells": [
  {
   "cell_type": "markdown",
   "metadata": {},
   "source": [
    "$$\n",
    "\\newcommand{\\fudm}[2]{\\frac{\\mathrm{D} #1}{\\mathrm{D} #2}}\n",
    "\\newcommand{\\pad}[2]{\\frac{\\partial #1}{\\partial #2}}\n",
    "\\newcommand{\\ppad}[2]{\\frac{\\partial^2 #1}{\\partial #2^2}}\n",
    "\\newcommand{\\ppadd}[3]{\\frac{\\partial^2 #1}{\\partial #2 \\partial #3}}\n",
    "\\newcommand{\\nnabla}{\\nabla^2}\n",
    "\\newcommand{\\eps}{\\epsilon}\n",
    "\\newcommand{\\vdetail}[1]{\\vb{#1}=\\begin{pmatrix}#1_1\\\\#1_2\\\\#1_3\\end{pmatrix}}\n",
    "\\newcommand{\\vb}[1]{\\mathbf{#1}}\n",
    "\\newcommand{\\va}[1]{\\vec{#1}}\n",
    "\\newcommand{\\vc}[1]{\\begin{pmatrix}#1_1\\\\#1_2\\end{pmatrix}}\n",
    "\\newcommand{\\vd}[1]{\\begin{pmatrix}#1_1\\\\#1_2\\\\#1_3\\end{pmatrix}}\n",
    "\\newcommand{\\tb}[1]{\\underline{\\underline{\\mathbf{#1}}}}\n",
    "\\newcommand{\\fud}[2]{\\frac{\\mathrm{d} #1}{\\mathrm{d} #2}}\n",
    "\\newcommand{\\ffud}[2]{\\frac{\\mathrm{d}^2 #1}{\\mathrm{d} #2^2}}\n",
    "\\newcommand{\\dd}{\\,\\mathrm{d}}\n",
    "$$"
   ]
  },
  {
   "cell_type": "markdown",
   "metadata": {},
   "source": [
    "## Tutorial 4 \n",
    "Concepts of Microfluidics, Claus-Dieter Ohl\n",
    "\n",
    "\n",
    "### Question 1 Diffusion\n",
    "Show that the solution for the limited point diffusion \n",
    "\n",
    "$$c(r,t>0)=\\frac{N_0}{\\left(4\\pi\\,D\\, t\\right)^{3/2}}\\exp\\left(-\\frac{r^2}{4\\,D\\,t}\\right)$$\n",
    "\n",
    "is a solution to the diffusion equation\n",
    "\n",
    "$$\\pad{c}{t}=D\\,\\nabla^2 c\\quad .$$\n",
    "\n",
    "You may want to use spherical polar coordinates.\n",
    "\n",
    "\n",
    "### Question 2 Capillarity \n",
    "\n",
    "Find the expression for the Young–Laplace pressure drop across a liquid/gas interface with surface tension $\\gamma$ inside a flat and very wide rectangular channel of height $h$, where the contact angle for the bottom and top plate are given by $\\Theta_1$ and $\\Theta_2$, respectively.\n",
    "\n",
    "\n",
    "### Question 3 Capillarity\n",
    "\n",
    "We have analyzed the horizontal capillary pump with rectangular cross-section. Redo the analysis for a capillary pump with a circular cross-section and calculate $t_\\mathrm{adv}$.\n",
    "\n",
    "\n",
    "### Question 4 Capillarity\n",
    "\n",
    "Take a picture of a droplet sitting on a surface and determine its contact angle from the picture. Try two different liquids, e.g. oil and water.\n",
    "\n",
    "### Question 5 Eletroosmotic flow in tubes\n",
    "\n",
    "Derive the Poisson-Boltzman  in cylindrical symmetry for a tube with radius $a$ and show that \n",
    "for Debye-Hückel approximation \n",
    "\n",
    "$$\\phi(r)=\\zeta\\frac{I_0(r/\\lambda_D)}{I_0(a/\\lambda_D)}$$ for \n",
    "$0<r<a$ is the solution of the potential. $I_0$ is the modified Bessel function of order 0.\n",
    "\n",
    "Derive similar to the rectangular channel the solution to the Navier Stokes equation of the flow driven by an external electrical field.\n",
    "a) Write down the relevant components of the Navier-Stokes equation and check that the flow field is $u_x(r)$ is a solution fulfilling the no-slip boundary condition.\n",
    "b) Derive an expression for the flow rate $Q_{eo}$."
   ]
  }
 ],
 "metadata": {
  "kernelspec": {
   "display_name": "Python 3",
   "language": "python",
   "name": "python3"
  },
  "language_info": {
   "codemirror_mode": {
    "name": "ipython",
    "version": 3
   },
   "file_extension": ".py",
   "mimetype": "text/x-python",
   "name": "python",
   "nbconvert_exporter": "python",
   "pygments_lexer": "ipython3",
   "version": "3.8.5"
  }
 },
 "nbformat": 4,
 "nbformat_minor": 2
}
