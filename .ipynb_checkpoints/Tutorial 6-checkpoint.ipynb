{
 "cells": [
  {
   "cell_type": "markdown",
   "metadata": {},
   "source": [
    "## Tutorial 6 (Week 13)\n",
    "\n",
    "\n",
    "#### Capillarity\n",
    "Find the expression for the Young–Laplace pressure drop across a liquid/gas interface with surface tension coefficient $\\gamma$ inside a flat and very wide rectangular channel of height $h$, where the contact angle for the bottom and top plate are given by $\\theta_1$ and $\\theta_2$, respectively.\n",
    "\n",
    "\n",
    "#### Two-Phase Flow\n",
    "1. Derive the expressions for $h_1$ and $h_2$ for the two-phase Poiseuille flow in Chapter [Two-Phase Flows](Two Phase Flows.ipynb). Discuss the limits of $\\mu_1\\rightarrow 0$ and $\\mu_2\\rightarrow \\infty$ if they make sense.\n",
    "\n",
    "2. The dispersion relation $\\omega(k)$ for gravity waves is given by Eq. (20) in Chapter Two-Phase Flows](Two Phase Flows.ipynb). Discuss the physical interpretation of this expression for $\\rho_1 > \\rho_2$ and for $\\rho_1 < \\rho_2$. Does the finding relate with your experiences, if yes give examles. Hint: consider the time evolution using the complex notation $e^{−iωt}$ for the time dependence.\n",
    "\n",
    "#### Electrosmotic Flow\n",
    "Plot the electric potential and the flow profile for the electric osmotic flow in a infinitely long flow channel as a function of $z$. Start with the program in Chapter [Electrosomotic flow](Electrosomotic flow.ipynb). \n",
    "Derive from Eq. (27) in Chapter [Electrosomotic flow](Electrosomotic flow.ipynb) the flow rate $Q$ through the thin channel.\n"
   ]
  }
 ],
 "metadata": {
  "kernelspec": {
   "display_name": "Python 2",
   "language": "python",
   "name": "python2"
  },
  "language_info": {
   "codemirror_mode": {
    "name": "ipython",
    "version": 2
   },
   "file_extension": ".py",
   "mimetype": "text/x-python",
   "name": "python",
   "nbconvert_exporter": "python",
   "pygments_lexer": "ipython2",
   "version": "2.7.14"
  }
 },
 "nbformat": 4,
 "nbformat_minor": 2
}
