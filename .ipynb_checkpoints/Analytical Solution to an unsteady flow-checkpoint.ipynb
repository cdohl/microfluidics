{
 "cells": [
  {
   "cell_type": "markdown",
   "metadata": {
    "hide_input": false
   },
   "source": [
    "$$\n",
    "\\newcommand{\\fudm}[2]{\\frac{\\mathrm{D} #1}{\\mathrm{D} #2}}\n",
    "\\newcommand{\\pad}[2]{\\frac{\\partial #1}{\\partial #2}}\n",
    "\\newcommand{\\ppad}[2]{\\frac{\\partial^2 #1}{\\partial #2^2}}\n",
    "\\newcommand{\\ppadd}[3]{\\frac{\\partial^2 #1}{\\partial #2 \\partial #3}}\n",
    "\\newcommand{\\nnabla}{\\nabla^2}\n",
    "\\newcommand{\\eps}{\\epsilon}\n",
    "\\newcommand{\\vdetail}[1]{\\vb{#1}=\\begin{pmatrix}#1_1\\\\#1_2\\\\#1_3\\end{pmatrix}}\n",
    "\\newcommand{\\vb}[1]{\\mathbf{#1}}\n",
    "\\newcommand{\\va}[1]{\\vec{#1}}\n",
    "\\newcommand{\\vc}[1]{\\begin{pmatrix}#1_1\\\\#1_2\\end{pmatrix}}\n",
    "\\newcommand{\\vd}[1]{\\begin{pmatrix}#1_1\\\\#1_2\\\\#1_3\\end{pmatrix}}\n",
    "\\newcommand{\\tb}[1]{\\underline{\\underline{\\mathbf{#1}}}}\n",
    "\\newcommand{\\fud}[2]{\\frac{\\mathrm{d} #1}{\\mathrm{d} #2}}\n",
    "\\newcommand{\\ffud}[2]{\\frac{\\mathrm{d}^2 #1}{\\mathrm{d} #2^2}}\n",
    "\\newcommand{\\dd}{\\,\\mathrm{d}}\n",
    "$$"
   ]
  },
  {
   "cell_type": "markdown",
   "metadata": {},
   "source": [
    "# Stokes 1<sup>st</sup> Problem \"Accelerated Plate\"\n",
    "\n",
    "\n",
    "An infinitely long plate lies along $y=0$ and is surrounded by a quiescent fluid with constant density $\\rho$ and viscosity $\\mu$. At time $t=0$ the plate is impulsively accelerated to the velocity $U$. The pressure at $x=\\pm\\infty$ is maintained constant.\n",
    "What is the velocity in the liquid as a function of $y$ and $t$?\n",
    "\n",
    "<img src=\"pics/stokes1sproblem.png\" width=350px>\n",
    "Figure 1: Plate moves with constant velocity $U$ from time $t\\ge0$.\n",
    "\n",
    "\n",
    "1. The flow is invariant under translation in $x$-direction. Thus it can't depend on $x$ and therefore all derivatives $\\pad{}{x}=0$. \n",
    "2. Because $\\pad{u}{x}+\\pad{v}{y}=0$ and the first term is $0$ the second term is $\\pad{v}{y}=0$. As the velocity $v(y=0)=0$ it is $v=0$ everywhere.\n",
    "\n",
    "\n",
    "Now we have a look at the Navier Stokes equations. We obtain\n",
    "\n",
    "\\begin{eqnarray}\n",
    "\\rho \\pad{u}{t} &=& -\\pad{p}{x} + \\mu \\ppad{u}{y}\\tag{1}\\\\\n",
    "0 &=& -\\pad{p}{y}\\tag{2}\n",
    "\\end{eqnarray}\n",
    "\n",
    "Equation (2) immediately gives $p=p(x)$ and as $p\\ne p(x)$ the pressure must be constant in the domain.\n",
    "\n",
    "Thus Eq. (1) becomes \n",
    "\n",
    "$$\n",
    "\\pad{u}{t}=\\nu\\ppad{u}{y}\\tag{3}\\quad ,\n",
    "$$\n",
    "\n",
    "with the boundary conditions \n",
    "\n",
    "\\begin{eqnarray}\n",
    "u(y,t<0) &=& 0\\tag{4a}\\\\\n",
    "u(y=0,t\\ge 0) &=& U\\tag{4b}\\\\\n",
    "u(y\\rightarrow\\infty , t)&=&0\\tag{4c}\n",
    "\\end{eqnarray}\n",
    "\n",
    "We can form a non-dimensional velocity, $u'=u/U$. We assume that this nondimensional velocity depends on a nondimensional distance from the wall, say $u'=u'(\\eta)$, where $\\eta$ is a nondimensional variable. Because we have no direct lengthscale in the problem, the only length we can form is by the expression $\\sqrt{\\nu t}$. \n",
    "\n",
    "$$\\frac{u}{U}=F\\left(\\frac{y}{\\sqrt{\\nu t}}\\right)\\equiv F(\\eta)$$\n",
    "\n",
    "This choice of non-dimensional variable reduces the solution space from 2 $(y,t)$ to 1, namely $\\eta=y/\\sqrt{\\nu t}$ and we can therefore rewrite the PDE into an ODE. $\\eta$ is called the similarity variable. Now Eq. (3) is rewritten in $\\eta$. For this we need to write the derivatives with respect to $\\eta$.\n",
    "\n",
    "$$\n",
    "\\pad{u}{t}=U\\fud{F}{t}=U\\fud{F}{\\eta}\\pad{\\eta}{t}=\n",
    "-\\frac{U y}{2\\sqrt{\\nu t^3}}\\fud{F}{\\eta}=-\\frac{U \\eta}{2 t}\\fud{F}{\\eta}\n",
    "$$\n",
    "\n",
    "and\n",
    "\n",
    "$$\n",
    "U \\ppad{F}{y}=U\\pad{}{y}\\left(\\fud{F}{\\eta}\\pad{\\eta}{y}\\right)=\n",
    "U\\pad{}{y}\\left( \\frac{1}{\\sqrt{\\nu t}}\\fud{F}{\\eta}\\right)=\\\\\n",
    "\\frac{U}{\\sqrt{\\nu t}}\\pad{\\eta}{y}\\fud{}{\\eta}\\left(\\fud{F}{\\eta}\\right)=\n",
    "\\frac{U}{\\nu t}\\fud{}{\\eta}\\left(\\fud{F}{\\eta}\\right)$$\n",
    "\n",
    "We can now insert both above expression into Eq. (3) and obtain\n",
    "\n",
    "$$\\frac{\\eta}{2}\\fud{F}{\\eta}=-\\fud{}{\\eta}\\left(\\fud{F}{\\eta}\\right)\\quad , \\tag{5}\n",
    "$$\n",
    "\n",
    "with the boundary conditions: $F(\\eta=0) = 1$ and $F(\\eta\\rightarrow\\infty)=0$.\n",
    "\n",
    "We can find the solution by variable substitution and integration, another possibilty is to ask <a href=\"https://www.wolframalpha.com/input/?i=x%2F2*df(x)%2Fdx%2Bd%5E2f(x)%2Fdx%5E2%3D0\"> Wolfram Alpha</a> which gives as a result\n",
    "\n",
    "$$F(\\eta)=\\sqrt{\\pi} C_1 \\,\\mathrm{erf}\\left(\\frac{\\eta}{2}\\right)+C_2\\tag{6}$$\n",
    "\n",
    "where the symbol $\\mathrm{erf}$ stands for the [Error function](https://en.wikipedia.org/wiki/Error_function)\n",
    "\n",
    "$$\\mathrm{erf}(\\eta)=\\frac{2}{\\sqrt{\\pi}}\\int_0^\\eta e^{-t^2} \\dd t\\quad.$$\n",
    "\n",
    "Because of $F(\\eta=0) = 1$ the constant $C_2$ in Eq. (6) is $C_2=1$.\n",
    "The $\\mathrm{erf}(\\eta/2)$ goes for $\\eta\\rightarrow\\infty$ to 1, thus for $F(\\eta\\rightarrow\\infty)=0$ the constant $C_1=-\\frac{1}{\\sqrt{\\pi}}$\n",
    "\n",
    "Thus the solution for the velocity field is\n",
    "\n",
    "$$\\frac{u}{U}=F(\\eta)=1-\\mathrm{erf}\\left(\\frac{\\eta}{2}\\right)=\n",
    "1-\\mathrm{erf}\\left( \\frac{y}{2\\sqrt{\\nu t}}\\right)\\tag{7}\\quad .$$\n",
    "\n",
    "\n"
   ]
  },
  {
   "cell_type": "markdown",
   "metadata": {},
   "source": [
    "## Example\n",
    "\n",
    "Below is an example of the velocity field using the viscosity $\\mu=0.1\\,$Pa s, a density of $\\rho=1000\\,$kg$\\, $m$^{-3}$ and a wall velocity of $U=1\\,$m/s. You can change the time stated in seconds to see how the flow field penetrates into the region $y>0$."
   ]
  },
  {
   "cell_type": "code",
   "execution_count": 1,
   "metadata": {
    "hide_input": false
   },
   "outputs": [
    {
     "data": {
      "application/vnd.jupyter.widget-view+json": {
       "model_id": "e1826ff2733c46888d6863bcd9521a29",
       "version_major": 2,
       "version_minor": 0
      },
      "text/plain": [
       "interactive(children=(FloatSlider(value=0.01, description='t (s)', max=0.2, min=0.01, step=0.01), Output()), _…"
      ]
     },
     "metadata": {},
     "output_type": "display_data"
    }
   ],
   "source": [
    "%matplotlib inline \n",
    "from scipy.special import erf \n",
    "import matplotlib.pyplot as plt\n",
    "import numpy as np\n",
    "import math\n",
    "from ipywidgets import interact\n",
    "import ipywidgets as widgets\n",
    "\n",
    "\n",
    "def plotstokes1(t):\n",
    "    mu=1e-1\n",
    "    rho=1e3\n",
    "    U=1.\n",
    "    y=np.linspace(0,1e-2,100)\n",
    "    u=U*(1-erf(y/(2.*(mu/rho*t)**.5)))\n",
    "    plt.plot(u,y*1e3)\n",
    "    plt.xlabel(r'velocity (m/s)',size=18);plt.ylabel(r'height (mm)',size=18);\n",
    "    plt.tick_params(labelsize=15)\n",
    "\n",
    "interact(plotstokes1, t=widgets.FloatSlider(min=0.01,max=0.2,step=.01,value=0.01,\\\n",
    "                                            description='t (s)'));"
   ]
  },
  {
   "cell_type": "markdown",
   "metadata": {},
   "source": [
    "### Comparison with the Navier-Stokes solver\n",
    "\n",
    "We need to put in the correct boundary conditions, which are \n",
    "\n",
    "$p(x=0)=p(x=L)=\\mathrm{const.}$, $u(y=0)=U_{wall}$, and $\\nabla u(y=L)= \\vb{0}$.\n",
    "\n",
    "Depending on the quality of the mesh we obtain good to very good agreement between the analytical solution Eq. (7) and the numerical solution.\n",
    "<p>\n",
    "\n",
    "\n",
    "**Your Work:**\n",
    "<ol>\n",
    "<li>Change the viscosity of the liquid in the program below and see how it affects the solution. If you obtain errors or instabilities, you may want to reduce the timestep ``dt`` by decreasing the CFL number. Try viscosities from $1000\\,$cSt to $1\\,$cSt.</li>\n",
    "\n",
    "<li>Change the time of the solution from $t=0.01\\,$s to $t=0.3\\,$s. Find out why the analytical and numerical solutions differ for large time and try to fix this. </li>\n",
    "\n",
    "</div>\n"
   ]
  },
  {
   "cell_type": "code",
   "execution_count": 4,
   "metadata": {
    "hide_input": false,
    "scrolled": true
   },
   "outputs": [
    {
     "data": {
      "image/png": "[encoded data removed]",
      "text/plain": [
       "<Figure size 432x288 with 1 Axes>"
      ]
     },
     "metadata": {
      "needs_background": "light"
     },
     "output_type": "display_data"
    }
   ],
   "source": [
    "%matplotlib inline\n",
    "import matplotlib.pyplot as plt\n",
    "import numpy as np\n",
    "from scipy.special import erf \n",
    "\n",
    "def presPoisson(p, dx, dy, rho, nu, u, v):\n",
    "    b[1:-1,1:-1]=rho*(1/dt*((u[1:-1,2:]-u[1:-1,0:-2])/(2*dx)+(v[2:,1:-1]-v[0:-2,1:-1])/(2*dy))-\\\n",
    "                 ((u[1:-1,2:]-u[1:-1,0:-2])/(2*dx))**2-\\\n",
    "                 2*((u[2:,1:-1]-u[0:-2,1:-1])/(2*dy)*(v[1:-1,2:]-v[1:-1,0:-2])/(2*dx))-\\\n",
    "                 ((v[2:,1:-1]-v[0:-2,1:-1])/(2*dy))**2)\n",
    "\n",
    "    for q in range(nit):\n",
    "        pn = p.copy()\n",
    "        p[1:-1,1:-1] = ((pn[1:-1,2:]+pn[1:-1,0:-2])*dy**2+(pn[2:,1:-1]+pn[0:-2,1:-1])*dx**2)/\\\n",
    "                        (2*(dx**2+dy**2)) -\\\n",
    "                        dx**2*dy**2/(2*(dx**2+dy**2))*b[1:-1,1:-1]\n",
    "        #boundary conditions        \n",
    "        p[-1,:] = p[-2,:] - rho*nu/dy*(-2*v[-2,:]+v[-3,:])\n",
    "        p[0,:] = p[1,:] - rho*nu/dy*(-2*v[1,:]+v[2,:])\n",
    "        p[:,0] = 0.001\n",
    "        p[:,-1] = 0.001\n",
    "\n",
    "    return p\n",
    "\n",
    "def NSFlow(nt, u, v, dt, dx, dy, p, rho, nu):\n",
    "    \n",
    "    for n in range(nt):\n",
    "        un = u.copy()\n",
    "        vn = v.copy()\n",
    "        \n",
    "        p = presPoisson(p, dx, dy, rho, nu, u, v)\n",
    "        \n",
    "        u[1:-1,1:-1] = un[1:-1,1:-1]-\\\n",
    "                        un[1:-1,1:-1]*dt/dx*(un[1:-1,1:-1]-un[1:-1,0:-2])-\\\n",
    "                        vn[1:-1,1:-1]*dt/dy*(un[1:-1,1:-1]-un[0:-2,1:-1])-\\\n",
    "                        dt/(2*rho*dx)*(p[1:-1,2:]-p[1:-1,0:-2])+\\\n",
    "                        nu*(dt/dx**2*(un[1:-1,2:]-2*un[1:-1,1:-1]+un[1:-1,0:-2])+\\\n",
    "                        dt/dy**2*(un[2:,1:-1]-2*un[1:-1,1:-1]+un[0:-2,1:-1]))\n",
    "\n",
    "        v[1:-1,1:-1] = vn[1:-1,1:-1]-\\\n",
    "                        un[1:-1,1:-1]*dt/dx*(vn[1:-1,1:-1]-vn[1:-1,0:-2])-\\\n",
    "                        vn[1:-1,1:-1]*dt/dy*(vn[1:-1,1:-1]-vn[0:-2,1:-1])-\\\n",
    "                        dt/(2*rho*dy)*(p[2:,1:-1]-p[0:-2,1:-1])+\\\n",
    "                        nu*(dt/dx**2*(vn[1:-1,2:]-2*vn[1:-1,1:-1]+vn[1:-1,0:-2])+\\\n",
    "                        (dt/dy**2*(vn[2:,1:-1]-2*vn[1:-1,1:-1]+vn[0:-2,1:-1])))\n",
    "            \n",
    "        u[0,:] = Uwall\n",
    "        u[:,0] = u[:,1]\n",
    "        u[:,-1] = u[:,-2]\n",
    "        u[-1,:] = 0\n",
    "        v[0,:] = 0\n",
    "        v[-1,:]=0\n",
    "        v[:,0] = 0\n",
    "        v[:,-1] = 0 \n",
    "                    \n",
    "    return u, v, p\n",
    "\n",
    "xlen= 0.01  #physical length in horizontal direction in [m]\n",
    "nit = 20  #number of Poisson iterative steps \n",
    "nx = 3    #number of grid points in horizontal direction\n",
    "dx = xlen/(nx-1)\n",
    "\n",
    "##########\n",
    "#Variables you can change to see their effect on the solution\n",
    "##########\n",
    "ylen= 0.05  #physical length in vertical direction in [m]\n",
    "ny = 30     #CHANGE number of grid points in vertical direction\n",
    "Uwall=0.2   #CHANGE velocity of the wall for the lid-case or the inlet velocity of tubev\n",
    "nu=1e-4     #CHANGE kinematic viscosity [m^2/s]\n",
    "rho = 1e3   #CHANGE density of the liquid [kg/m^3]\n",
    "t=0.8      #CHANGE time of solution\n",
    "\n",
    "dy = ylen/(ny-1)\n",
    "CFL = 0.05    #CFL number sufficientl small to be stable\n",
    "dt = CFL * dy / Uwall #time step interval\n",
    "nt = int(t/dt)  #number of time steps each having length dt \n",
    "\n",
    "u = np.zeros((ny, nx)) #velocity field arrays\n",
    "v = np.zeros((ny, nx))\n",
    "p = np.zeros((ny, nx)) #pressure field arrays\n",
    "b = np.zeros((ny, nx)) #this is needed for the Poisson solver\n",
    "u, v, p = NSFlow(nt, u, v, dt, dx, dy, p, rho, nu)\n",
    "\n",
    "x = np.linspace(0, xlen, nx)\n",
    "y = np.linspace(0, ylen, ny)\n",
    "ya = np.linspace(0, ylen, 200)\n",
    "\n",
    "plt.plot(Uwall*(1-erf(ya/(2.*(nu*t)**.5))),ya*1e3,'k',linewidth=2,label='analytical')\n",
    "plt.plot(u[:,int(nx/2)],y*1e3,'bo',markersize=15,markeredgecolor='blue',\\\n",
    "         markerfacecolor='none',label='numerical')\n",
    "plt.xlabel('u-velocity (m/s)',size=20);plt.ylabel('distance (mm)', size=20)\n",
    "plt.tick_params(labelsize=20)\n",
    "plt.legend(fontsize=15);"
   ]
  }
 ],
 "metadata": {
  "kernelspec": {
   "display_name": "Python [conda env:mypython3]",
   "language": "python",
   "name": "conda-env-mypython3-py"
  },
  "language_info": {
   "codemirror_mode": {
    "name": "ipython",
    "version": 3
   },
   "file_extension": ".py",
   "mimetype": "text/x-python",
   "name": "python",
   "nbconvert_exporter": "python",
   "pygments_lexer": "ipython3",
   "version": "3.7.3"
  },
  "widgets": {
   "state": {
    "521f26ae7a294be6b96cf79d1ec9b221": {
     "views": [
      {
       "cell_index": 3
      }
     ]
    }
   },
   "version": "1.2.0"
  }
 },
 "nbformat": 4,
 "nbformat_minor": 1
}
