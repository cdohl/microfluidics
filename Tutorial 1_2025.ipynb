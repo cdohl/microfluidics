{
 "cells": [
  {
   "cell_type": "markdown",
   "metadata": {},
   "source": [
    "## Tutorial 1 Microfluidics\n",
    "\n",
    "Please prepare the answers for the following questions for our tutorial on 15.5.2025\n",
    "\n",
    "### Claus-Dieter Ohl \n",
    "\n",
    "  \n",
    "  \\begin{eqnarray}\n",
    "  u&=&a\\,x\\\\\n",
    "  v&=&-ay \\quad \\mathrm{where}\\, a=\\mathrm{const}>0\\quad .\n",
    "  \\end{eqnarray}\n",
    "\n",
    "\n",
    "\n",
    "1. **Streamlines**\n",
    "\n",
    "  Given the following flow field: \n",
    "  \\begin{eqnarray}u&=&a\\,x\\\\\n",
    "  v&=&-ay \\quad \\mathrm{where}\\, a=\\mathrm{const}>0\\quad .\n",
    "  \\end{eqnarray}\n",
    "\n",
    "  1. Find an equation for the streamline that passes through a point $(x_0,y_0)$. In which direction moves a fluid particle? If it orginates from a location $y_0>0$ does the particle pass through the horizontal line $y=0$. Where is the stagnation point? What kind of flow could that be?\n",
    "\n",
    "  2. Plot the flow field (arrow or `plt.quiver` plot for $x\\ge0$). For $x_0=1$ and $y_0=1$, plot a streamline passing through this point. Then, plot through nearby points a few more streamlines to illustrate the flow field. \n",
    "\n",
    "\n",
    "\n",
    "\n",
    "2. **Index Notation**\n",
    "  Use the index notation and show that these are equalities:\n",
    "\n",
    "  1. $$\\frac{\\partial}{\\partial x_i}(p\\,\\delta_{ij})=(\\nabla p)_j$$ \n",
    "  2. $$\\nabla\\cdot(\\rho \\vec{u})=(\\nabla \\rho)\\cdot \\vec{u}+\\rho\\,\\nabla\\cdot\\vec{u}$$\n",
    "\n",
    "\n",
    "3. **Navier Stokes Equation**\n",
    "\n",
    " Repeat the Navier Stokes derivation for a tube now for 2 concentric tubes with radii $r_i$ and $r_o$.  \n",
    " <img src=\"pics/concentric tubes.png\" width=400> \n",
    " Show that the flow velocity in $z$-direction is \n",
    " $$\n",
    "u_z(r)=\\frac{1}{4\\mu}\\frac{\\mathrm{d}p}{\\mathrm{d}z}\\left(r^2-r_o^2+\\frac{r_i^2-r_o^2}{\\ln \\frac{r_o}{r_i}}\\ln\\left[\\frac{r}{r_i}\\right]\\right)\\quad .$$\n",
    "\n",
    "\n",
    "4. **Flow Simulations**\n",
    "\n",
    "  1. Write down the boundary conditions (b.c.) for the velocity $\\vec{u}$ and pressure for a flow in a 2d-tube driven by a pressure gradient. You need one b.c. for each boundary, i.e. the walls and the inlet/outlet, and component of the velocity. The pressure at the walls are determined by the incompressibility condition. For help, look into the code.\n",
    "  \n",
    "  2. Do the same for a flow in a 2-tube driven by the upper wall. Again, check your answer with the boundary conditions stated in the code.\n",
    "  \n",
    "  3. Conduct simulations for pressure driven and wall driven flows. Try to obtain a parabolic profile for the pressure driven flow and a linear profile for the wall driven flow. Discuss the results. What is the effect of the time step \"dt\" of integration.\n",
    "  "
   ]
  }
 ],
 "metadata": {
  "kernelspec": {
   "display_name": "Python 3 (ipykernel)",
   "language": "python",
   "name": "python3"
  },
  "language_info": {
   "codemirror_mode": {
    "name": "ipython",
    "version": 3
   },
   "file_extension": ".py",
   "mimetype": "text/x-python",
   "name": "python",
   "nbconvert_exporter": "python",
   "pygments_lexer": "ipython3",
   "version": "3.9.12"
  }
 },
 "nbformat": 4,
 "nbformat_minor": 2
}
