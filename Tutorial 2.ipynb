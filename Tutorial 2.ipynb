{
 "cells": [
  {
   "cell_type": "markdown",
   "metadata": {},
   "source": [
    "## Tutorial 2 Microfluidics\n",
    "\n",
    "### Claus-Dieter Ohl\n",
    "\n",
    "1. **Watch**\n",
    "  carefully the following introductory videos on microfluidics:\n",
    "  Short introduction to microfluidics plus 3 videos are available on youtube here:\n",
    "[Video 1](https://www.youtube.com/watch?v=b8zE2i755-k), [Video 2](https://www.youtube.com/watch?v=68p3qAm4i7U), and [Video 3](https://www.youtube.com/watch?v=EYuyRUjnTgc).\n",
    "\n",
    "2. **Index Notation**\n",
    "  Use the index notation and show that these are equalities:\n",
    "\n",
    "  1. $$\\frac{\\partial}{\\partial x_i}(p\\,\\delta_{ij})=(\\nabla p)_j$$ \n",
    "  2. $$\\nabla\\cdot(\\rho \\vec{u})=(\\nabla \\rho)\\cdot \\vec{u}+\\rho\\,\\nabla\\cdot\\vec{u}$$\n",
    "\n",
    "3. **Numerical solver for pathlines**\n",
    "  Work through the [following notebook](02a%20Euler%20Method.ipynb) (02a Euler Method.ipynb). Understand the programs and implement a flowfield of your choice. Show the solution."
   ]
  },
  {
   "cell_type": "code",
   "execution_count": null,
   "metadata": {},
   "outputs": [],
   "source": []
  }
 ],
 "metadata": {
  "kernelspec": {
   "display_name": "Python 3 (ipykernel)",
   "language": "python",
   "name": "python3"
  },
  "language_info": {
   "codemirror_mode": {
    "name": "ipython",
    "version": 3
   },
   "file_extension": ".py",
   "mimetype": "text/x-python",
   "name": "python",
   "nbconvert_exporter": "python",
   "pygments_lexer": "ipython3",
   "version": "3.9.12"
  }
 },
 "nbformat": 4,
 "nbformat_minor": 2
}
