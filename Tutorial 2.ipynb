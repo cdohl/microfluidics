{
 "cells": [
  {
   "cell_type": "markdown",
   "metadata": {},
   "source": [
    "## Tutorial 2 Microfluidics\n",
    "### Claus-Dieter Ohl & Fabian Reuter (please hand before the tutorial on 27.4.2021)\n",
    "\n",
    "1. **Index Notation**\n",
    "\n",
    "  Use the index notation and show that the these are equalities:\n",
    "\n",
    "  1. $$\\frac{\\partial}{\\partial x_i}(p\\,\\delta_{ij})=(\\nabla p)_j$$ \n",
    "  2. $$\\nabla\\cdot(\\rho \\vec{u})=(\\nabla \\rho)\\cdot \\vec{u}+\\rho\\,\\nabla\\cdot\\vec{u}$$\n",
    "\n",
    "2. **Flow Simulations**\n",
    "\n",
    "  1. Write down the boundary conditions (b.c.) for the velocity $\\vec{u}$ and pressure for a flow in a 2d-tube driven by a pressure gradient. You need one b.c. for each boundary, i.e. the walls and the inlet/outlet, and component of the velocity. The pressure at the walls are determined by the incompressibility condition. For help look into the code.\n",
    "  \n",
    "  2. Do the same for a flow in a 2-tube driven by the upper wall. Again, check you answer with the boundary conditions stated in the code.\n",
    "  \n",
    "  3. Conduct simulations for pressure driven and wall driven flows. Try to obtain a parabolic profile for the pressure driven flow and a linear profile for the wall driven flow. Discuss the results. What is the effect of the time step of integration, and the CFL-number. Look up the meaning of the CFL number. \n",
    "  \n",
    "3. **Navier Stokes Equation**\n",
    "\n",
    "  The electrostatic force is a body force $\\vec{F}=q\\,\\vec{E}$, where $q$ is the charge and $\\vec{E}$ is the electric field. Add this force in the derivation of the Navier Stokes Equation and write a Navier Stokes Eq. with electrostatic body forces using a charge density $\\rho_{el}$ and the electric field $\\vec{E}$. "
   ]
  }
 ],
 "metadata": {
  "kernelspec": {
   "display_name": "Python [default]",
   "language": "python",
   "name": "python2"
  },
  "language_info": {
   "codemirror_mode": {
    "name": "ipython",
    "version": 2
   },
   "file_extension": ".py",
   "mimetype": "text/x-python",
   "name": "python",
   "nbconvert_exporter": "python",
   "pygments_lexer": "ipython2",
   "version": "2.7.14"
  }
 },
 "nbformat": 4,
 "nbformat_minor": 2
}
