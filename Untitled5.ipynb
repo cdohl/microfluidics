{
 "cells": [
  {
   "cell_type": "code",
   "execution_count": 7,
   "id": "ebc2467a",
   "metadata": {},
   "outputs": [
    {
     "data": {
      "text/plain": [
       "17.247183333333332"
      ]
     },
     "execution_count": 7,
     "metadata": {},
     "output_type": "execute_result"
    }
   ],
   "source": [
    "rho_g=1.293\n",
    "d=4e-6\n",
    "sigma=0.072\n",
    "ujet=490\n",
    "rho_g*d*ujet**2/sigma"
   ]
  },
  {
   "cell_type": "code",
   "execution_count": 4,
   "id": "4ddbe783",
   "metadata": {},
   "outputs": [
    {
     "data": {
      "text/plain": [
       "470.0"
      ]
     },
     "execution_count": 4,
     "metadata": {},
     "output_type": "execute_result"
    }
   ],
   "source": [
    "470/2*1e-6/.5e-6"
   ]
  },
  {
   "cell_type": "code",
   "execution_count": null,
   "id": "1748ef57",
   "metadata": {},
   "outputs": [],
   "source": []
  }
 ],
 "metadata": {
  "kernelspec": {
   "display_name": "Python 3 (ipykernel)",
   "language": "python",
   "name": "python3"
  },
  "language_info": {
   "codemirror_mode": {
    "name": "ipython",
    "version": 3
   },
   "file_extension": ".py",
   "mimetype": "text/x-python",
   "name": "python",
   "nbconvert_exporter": "python",
   "pygments_lexer": "ipython3",
   "version": "3.9.12"
  }
 },
 "nbformat": 4,
 "nbformat_minor": 5
}
