{
 "cells": [
  {
   "cell_type": "code",
   "execution_count": 3,
   "id": "813b1ec6",
   "metadata": {},
   "outputs": [
    {
     "name": "stdout",
     "output_type": "stream",
     "text": [
      "104944.97948662442\n",
      "294592.64362780534\n"
     ]
    }
   ],
   "source": [
    "#Equation (19)\n",
    "E = 1.2e6 #Young's modulus of ring material\n",
    "\n",
    "#moment of inertia of cross section of ring about its y-axis\n",
    "b = 100e-6   #width of cross section\n",
    "h = 400e-6   #height of cross section\n",
    "I_1 = (b**3)*h/12\n",
    "\n",
    "g = 9.81 #acceleration due to gravity\n",
    "\n",
    "Alpha = 1.02e2 #density of material\n",
    "\n",
    "A = b*h #area of cross-section\n",
    "\n",
    "R = 500e-6 #radius of ring\n",
    "\n",
    "k = I_1/(A*(R**2))\n",
    "\n",
    "n = 2\n",
    "w_2 = (((E*I_1*g)/(Alpha*A*(R**4)))*((n**6-2*n**4+n**2)/((n**4)*k-(n**2)*(2*k-1)+(k+1))))**(0.5)\n",
    "print(w_2) \n",
    "\n",
    "n = 3\n",
    "w_3 = (((E*I_1*g)/(Alpha*A*(R**4)))*((n**6-2*n**4+n**2)/((n**4)*k-(n**2)*(2*k-1)+(k+1))))**(0.5)\n",
    "print(w_3)"
   ]
  },
  {
   "cell_type": "code",
   "execution_count": null,
   "id": "8ab76e68",
   "metadata": {},
   "outputs": [],
   "source": []
  }
 ],
 "metadata": {
  "kernelspec": {
   "display_name": "Python 3 (ipykernel)",
   "language": "python",
   "name": "python3"
  },
  "language_info": {
   "codemirror_mode": {
    "name": "ipython",
    "version": 3
   },
   "file_extension": ".py",
   "mimetype": "text/x-python",
   "name": "python",
   "nbconvert_exporter": "python",
   "pygments_lexer": "ipython3",
   "version": "3.9.12"
  }
 },
 "nbformat": 4,
 "nbformat_minor": 5
}
