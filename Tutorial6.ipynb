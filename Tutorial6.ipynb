{
 "cells": [
  {
   "cell_type": "markdown",
   "metadata": {},
   "source": [
    "#### Two-Phase Flow\n",
    "\n",
    "1. Derive the expressions for $h_1$ and $h_2$ for the two-phase Poiseuille flow in Chapter [Two-Phase Flows](Two Phase Flows.ipynb). Discuss the limits of $\\mu_1\\rightarrow 0$ and $\\mu_2\\rightarrow \\infty$ if they make sense.\n",
    "2. Extend the flow to a three phase flow with heights $h_1$, $h_2$, and $h_3$ with respective viscosities  \n",
    "\n",
    "#### Electrosmotic Flow\n",
    "Plot the electric potential and the flow profile for the electric osmotic flow in a infinitely long flow channel as a function of $z$. Start with the program in Chapter [Electrosomotic flow](Electrosomotic flow.ipynb). \n",
    "Derive from Eq. (27) in Chapter [Electrosomotic flow](Electrosomotic flow.ipynb) the flow rate $Q$ through the thin channel.\n"
   ]
  },
  {
   "cell_type": "code",
   "execution_count": null,
   "metadata": {},
   "outputs": [],
   "source": []
  }
 ],
 "metadata": {
  "kernelspec": {
   "display_name": "Python [conda env:mypython3]",
   "language": "python",
   "name": "conda-env-mypython3-py"
  },
  "language_info": {
   "codemirror_mode": {
    "name": "ipython",
    "version": 3
   },
   "file_extension": ".py",
   "mimetype": "text/x-python",
   "name": "python",
   "nbconvert_exporter": "python",
   "pygments_lexer": "ipython3",
   "version": "3.7.3"
  }
 },
 "nbformat": 4,
 "nbformat_minor": 2
}
