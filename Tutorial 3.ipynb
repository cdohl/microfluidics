{
 "cells": [
  {
   "cell_type": "markdown",
   "metadata": {},
   "source": [
    "## Tutorial 3 Microfluidics\n",
    "\n",
    "Please prepare the answers for the following questions for our tutorial on 21.5.2024\n",
    "\n",
    "### Claus-Dieter Ohl \n",
    "\n",
    "\n",
    "1. **Flow Simulations**\n",
    "\n",
    "  1. Write down the boundary conditions (b.c.) for the velocity $\\vec{u}$ and pressure for a flow in a 2d-tube driven by a pressure gradient. You need one b.c. for each boundary, i.e. the walls and the inlet/outlet, and component of the velocity. The pressure at the walls are determined by the incompressibility condition. For help, look into the code.\n",
    "  \n",
    "  2. Do the same for a flow in a 2-tube driven by the upper wall. Again, check your answer with the boundary conditions stated in the code.\n",
    "  \n",
    "  3. Conduct simulations for pressure driven and wall driven flows. Try to obtain a parabolic profile for the pressure driven flow and a linear profile for the wall driven flow. Discuss the results. What is the effect of the time step \"dt\" of integration.\n",
    "  \n",
    "  \n",
    "  \n",
    "2. **Watch**\n",
    "  carefully the following introductory videos on microfluidics:\n",
    "  Short introduction to microfluidics plus 3 videos are available on youtube here:\n",
    "[Video 1](https://www.youtube.com/watch?v=b8zE2i755-k), [Video 2](https://www.youtube.com/watch?v=68p3qAm4i7U), and [Video 3](https://www.youtube.com/watch?v=EYuyRUjnTgc).\n",
    "\n",
    "\n",
    "\n",
    "3. **Index Notation**\n",
    "  Use the index notation and show that these are equalities:\n",
    "\n",
    "  1. $$\\frac{\\partial}{\\partial x_i}(p\\,\\delta_{ij})=(\\nabla p)_j$$ \n",
    "  2. $$\\nabla\\cdot(\\rho \\vec{u})=(\\nabla \\rho)\\cdot \\vec{u}+\\rho\\,\\nabla\\cdot\\vec{u}$$\n",
    "\n",
    "\n",
    "\n",
    "4. **Navier Stokes Equation**\n",
    "\n",
    " Repeat the Navier Stokes derivation for a tube now for 2 concentric tubes with radii $r_i$ and $r_o$.  \n",
    " <img src=\"pics/concentric tubes.png\" width=400> \n",
    " Show that the flow velocity in $z$-direction is \n",
    " $$\n",
    "u_z(r)=\\frac{1}{4\\mu}\\frac{\\mathrm{d}p}{\\mathrm{d}z}\\left(r^2-r_o^2+\\frac{r_i^2-r_o^2}{\\ln \\frac{r_o}{r_i}}\\ln\\left[\\frac{r}{r_i}\\right]\\right)\\quad .$$\n",
    "\n",
    "\n",
    "\n",
    "5. **Kitchen Experiment: Wetting of Paper**\n",
    "\n",
    "  Take a porous paper such as blotting paper (in German \"Löschpapier\"), or a kitchen paper. Place is straight and horizontal on a plate. Wet the center of the paper point-like with dyed color, e.g. place a small drop of ink or food coloring with a tooth pick or similar. Record the spreading of the ink. Then plot the distance of the border of the ink from the center as a function of time. \n",
    " Here you may use a hand phone that is fixed in space for the duration of the experiment and take pictures. Load the pictures into ImageJ and determine radius of circle covering the border. You can use the measuring tool build into ImageJ. Calibrate your distance of the camera, e.g. in mm pixel.\n",
    " Plot the radius of the blob as a function of time, $t$, and as a function of $\\sqrt{t}$.\n"
   ]
  }
 ],
 "metadata": {
  "kernelspec": {
   "display_name": "Python 3",
   "language": "python",
   "name": "python3"
  },
  "language_info": {
   "codemirror_mode": {
    "name": "ipython",
    "version": 3
   },
   "file_extension": ".py",
   "mimetype": "text/x-python",
   "name": "python",
   "nbconvert_exporter": "python",
   "pygments_lexer": "ipython3",
   "version": "3.8.5"
  }
 },
 "nbformat": 4,
 "nbformat_minor": 2
}
