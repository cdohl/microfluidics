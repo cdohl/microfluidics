{
 "cells": [
  {
   "cell_type": "markdown",
   "metadata": {},
   "source": [
    "$$\n",
    "\\newcommand{\\fudm}[2]{\\frac{\\mathrm{D} #1}{\\mathrm{D} #2}}\n",
    "\\newcommand{\\pad}[2]{\\frac{\\partial #1}{\\partial #2}}\n",
    "\\newcommand{\\ppad}[2]{\\frac{\\partial^2 #1}{\\partial #2^2}}\n",
    "\\newcommand{\\ppadd}[3]{\\frac{\\partial^2 #1}{\\partial #2 \\partial #3}}\n",
    "\\newcommand{\\nnabla}{\\nabla^2}\n",
    "\\newcommand{\\eps}{\\epsilon}\n",
    "\\newcommand{\\vdetail}[1]{\\vb{#1}=\\begin{pmatrix}#1_1\\\\#1_2\\\\#1_3\\end{pmatrix}}\n",
    "\\newcommand{\\vb}[1]{\\mathbf{#1}}\n",
    "\\newcommand{\\va}[1]{\\vec{#1}}\n",
    "\\newcommand{\\vc}[1]{\\begin{pmatrix}#1_1\\\\#1_2\\end{pmatrix}}\n",
    "\\newcommand{\\vd}[1]{\\begin{pmatrix}#1_1\\\\#1_2\\\\#1_3\\end{pmatrix}}\n",
    "\\newcommand{\\tb}[1]{\\underline{\\underline{\\mathbf{#1}}}}\n",
    "\\newcommand{\\fud}[2]{\\frac{\\mathrm{d} #1}{\\mathrm{d} #2}}\n",
    "\\newcommand{\\ffud}[2]{\\frac{\\mathrm{d}^2 #1}{\\mathrm{d} #2^2}}\n",
    "\\newcommand{\\dd}{\\,\\mathrm{d}}\n",
    "$$"
   ]
  },
  {
   "cell_type": "markdown",
   "metadata": {
    "hide_input": false
   },
   "source": [
    "## Diffusion\n",
    "\n",
    "Diffusion is the motion of a solute (particle/molecules) in a solvent (liquid/gas/solid). Pure diffusion is when the solvent has zero velocity. \n",
    "\n",
    "### Random Walker in 1D and 2D\n",
    "We start with a simple model, where for each step a coin is tossed and the solute does either a step of length $l$ in the $+1$ or $-1$ direction. Thus after $N$ steps the solute is at location\n",
    "\n",
    "$$x_N=\\sum_{i=1}^N \\Delta x_i, \\quad \\Delta x_i=\\pm l\\quad.\\tag{1}$$"
   ]
  },
  {
   "cell_type": "code",
   "execution_count": 3,
   "metadata": {
    "hide_input": false
   },
   "outputs": [
    {
     "data": {
      "application/vnd.jupyter.widget-view+json": {
       "model_id": "b3699fb935a54218a3cfbbf23d86a86b",
       "version_major": 2,
       "version_minor": 0
      },
      "text/plain": [
       "interactive(children=(IntSlider(value=100, description='Steps', max=100000, min=100, step=1000), Output()), _d…"
      ]
     },
     "metadata": {},
     "output_type": "display_data"
    }
   ],
   "source": [
    "%matplotlib inline \n",
    "import matplotlib.pyplot as plt\n",
    "import numpy as np\n",
    "import math\n",
    "from ipywidgets import interact\n",
    "import ipywidgets as widgets\n",
    "\n",
    "\n",
    "def rand_walk_1d(N):\n",
    "    s=np.random.randint(-1, 1, size=N)\n",
    "    s[np.where(s==0)]=1 #generates steps of -1 and +1\n",
    "    return s\n",
    "\n",
    "def plot_rand_walk_1d(N):\n",
    "    s=rand_walk_1d(N)\n",
    "    plt.plot(np.cumsum(s));\n",
    "    \n",
    "\n",
    "interact(plot_rand_walk_1d,\\\n",
    "         N = widgets.IntSlider(min = 100, max = 100000, step = 1000, value = 100,\\\n",
    "                                    description = \"Steps\"));\n"
   ]
  },
  {
   "cell_type": "markdown",
   "metadata": {
    "hide_input": true
   },
   "source": [
    "Consider $M$ constant-step random walks ending at $x_N^{(j)}, j=1,2,\\dots, M$. Each of these random walks consists of $N$ random steps $\\Delta x_i^{(j)}=\\pm l$. The mean value of all these $M$ final positions is:\n",
    "\n",
    "$$\\left<x_N\\right>=\\frac{1}{M}\\sum_{j=1}^M x_N^{(j)}=\\frac{1}{M}\\sum_{j=1}^M\\left(\\sum_{i=1}^N \\Delta x_i^{(j)}\\right)=\\sum_{i=1}^N\\left(\\frac{1}{M}\\sum_{j=1}^M \\Delta x_i^{(j)}\\right)=\\sum_{i=1}^N \\left<\\Delta x_i\\right> = 0\\tag{2}$$\n",
    "\n",
    "The last equality in Eq. (2) comes from the assumption that the probabilit of $+1$ steps is equal to $-1$ steps, thus on average it is zero. Using the average over $M$ trajectories does not reveal any temporal dynamics of diffusion. We therefore continue to calculate the second moment, i.e. $\\left< x_N^2\\right>$.\n",
    "\n",
    "\\begin{eqnarray}\n",
    "\\left<x_N^2\\right>&=&\\frac{1}{M}\\sum_{j=1}^M\\left[x_N^{(j)}\\right]^2=\\frac{1}{M}\\sum_{j=1}^M\\left(\\sum_{i=1}^N\\Delta x_i^{(j)}\\right)\\left(\\sum_{i=1}^N\\Delta x_i^{(j)}\\right)\\\\\n",
    "&=&\\frac{1}{M}\\sum_{j=1}^M\\sum_{i=1}^N\\sum_{k=1}^N\\Delta x_i^{(j)}\\,\\Delta x_k^{(j)}\\tag{3}\n",
    "\\end{eqnarray}\n",
    "\n",
    "We now collect in Eq.(3) the terms where the terms are $i=k$ and where $i\\ne k$. Then we evaluate above expression:\n",
    "\n",
    "\\begin{eqnarray}\n",
    "\\left<x_N^2\\right>&=&\\frac{1}{M}\\sum_{j=1}^M\\left(\\sum_{i=1}^N \\left[\\Delta x_i^{(j)}\\right]^2+\\sum_{i=1}^N\\sum_{k\\ne i}^N\\Delta x_i^{(j)}\\Delta x_k^{(j)}\\right)\\\\\n",
    "&=&N l^2 + \\sum_{i=1}^N\\sum_{k\\ne i}^N\\left<\\Delta x_i^{(j)}\\Delta x_k^{(j)}\\right>\\tag{4}\n",
    "\\end{eqnarray}\n",
    "\n",
    "Here we have used the fact that $\\left[\\Delta x_i^{(j)}\\right]^2=(\\pm l)^2=l^2$. The last term in Eq. (4) is the average of statistically independent steps where we have the same number of $-l^2$ and $+l^2$ terms summing up to zero, i.e. $(+l)(-l)=(-l)(+l)=-l^2$ and $(+l)(+l)=(-l)(-l)=+l^2$. Therefore, the last term upon averaging becomes zero and we obtain for the random solute walker\n",
    "\n",
    "$$\n",
    "\\left<x_N^2\\right>=N\\,l^2\\tag{5}\n",
    "$$\n",
    "\n",
    "The root-mean-square displacement by diffusion is called the diffusion length a random walker after taking $N$ steps in 1D:\n",
    "\n",
    "$$l_{\\text{diff}, N}^\\text{1D}=\\sqrt{N}\\, l\\tag{6}$$\n",
    "\n",
    "We can introduce time assuming that the walker takes an interval of $\\tau$ for each step, thus in total $t=N\\,\\tau$. Then we obtain for the diffusion length\n",
    "\n",
    "$$l_{\\text{diff}, N}^\\text{1D}=\\sqrt{\\frac{t}{\\tau}}\\,l=\\sqrt{\\frac{l^2}{\\tau}\\,t}=\\sqrt{D t}\\tag{7}$$\n",
    "\n",
    "Here we have introduced the diffusion constant \n",
    "\n",
    "$$D=\\frac{l^2}{\\tau}\\tag{8}$$.\n",
    "\n",
    "Interestingly, the diffusion length grows with the square root of time $t$ that holds for 2D and 3D diffusion.\n",
    "\n",
    "The random walk model can be simply extended to 2D allowing for $\\Delta \\vb{r}$ steps of length $l$ in the $\\vb{e}_x$ and $\\vb{e}_y$ directions. Then the particle is after $N$  steps at position $\\vb{R}_N$\n",
    "\n",
    "$$\n",
    "\\vb{R}_N=\\sum_{i=1}^N\\Delta \\vb{r}_i, \\quad \\Delta\\vb{r_i}=(\\pm l)\\,\\vb{e}_x+(\\pm l)\\,\\vb{e}_y\\quad .$$\n",
    "\n",
    "The probabilities for the two directions are independent, thus the mean-square displacement\n",
    "\n",
    "$$\n",
    "\\left<R_N^2\\right> = \\left< x_N^2+y_N^2\\right>=\\left<x_N^2\\right>+\\left<y_N^2\\right>=2\\,N\\,l^2$$\n",
    "\n",
    "and with this result we obtain\n",
    "\n",
    "$$l_{\\text{diff}, N}^\\text{2D}=\\sqrt{2 N}\\,l=\\sqrt{2\\,D\\,t}\\tag{9}\\quad .$$\n",
    "\n",
    "Below you have a program for 2D diffusion where the diffusion length is $l_{\\text{diff}, N}^\\text{2D}$ is indicated with a red circle."
   ]
  },
  {
   "cell_type": "code",
   "execution_count": 4,
   "metadata": {
    "hide_input": false
   },
   "outputs": [
    {
     "data": {
      "application/vnd.jupyter.widget-view+json": {
       "model_id": "8bf43bf93e29413cb62bf2e71430b289",
       "version_major": 2,
       "version_minor": 0
      },
      "text/plain": [
       "interactive(children=(IntSlider(value=1, description='Steps', max=5000, min=1, step=10), IntSlider(value=100, …"
      ]
     },
     "metadata": {},
     "output_type": "display_data"
    }
   ],
   "source": [
    "phi=np.linspace(0., 2.*np.pi, 100);\n",
    "def rand_walk_2d(N):\n",
    "    sx=np.random.randint(-1, 1, size=N)\n",
    "    sx[np.where(sx==0)]=1 #generates steps of -1 and +1\n",
    "    sy=np.random.randint(-1, 1, size=N)\n",
    "    sy[np.where(sy==0)]=1 #generates steps of -1 and +1\n",
    "    return sx,sy\n",
    "\n",
    "def plot_rand_walk_2d(N,M):\n",
    "    sfx=np.array([])\n",
    "    sfy=np.array([])\n",
    "    for j in range(M):\n",
    "        sx,sy=rand_walk_2d(N)\n",
    "        sfx=np.append(sfx,sx.sum())\n",
    "        sfy=np.append(sfy,sy.sum())\n",
    "   \n",
    "    ldiff=np.sqrt(2*N);    \n",
    "    plt.plot(sfx,sfy,'o');\n",
    "    plt.plot(ldiff*np.cos(phi),ldiff*np.sin(phi),'r') \n",
    "    plt.axis('equal')\n",
    "    plt.xlim((-120,120))\n",
    "    plt.ylim((-120,120))\n",
    "    plt.gca().set_aspect('equal', adjustable='box')\n",
    "    \n",
    "\n",
    "interact(plot_rand_walk_2d,\\\n",
    "         N = widgets.IntSlider(min = 1, max = 5000, step = 10, value = 1,\\\n",
    "                                    description = \"Steps\"),\\\n",
    "         M = widgets.IntSlider(min = 1, max = 1000, step = 10, value = 100,\\\n",
    "                                    description = \"Particles\"),        );\n"
   ]
  },
  {
   "cell_type": "markdown",
   "metadata": {},
   "source": [
    "### Convection Diffusion Equation\n",
    "\n",
    "We start with the conservation of mass equation \n",
    "\n",
    "$$\\pad{\\rho}{t}+\\nabla\\cdot\\left(\\rho\\,\\vb{u}\\right)=0\\tag{10}\\quad,$$\n",
    "\n",
    "where we consider not a single density but multiple fluids with their density $\\rho_\\alpha$. The the sum of the densities is\n",
    "\n",
    "$$\\rho(\\vb{x})=\\sum_\\alpha\\rho_\\alpha(\\vb{x})\\quad .\\tag{11}$$\n",
    "\n",
    "The concentration $c_\\alpha$ of a solute is defined by the density fraction\n",
    "\n",
    "$$c_\\alpha(\\vb{x},t)=\\frac{\\rho_\\alpha(\\vb{x},t)}{\\rho(\\vb{x},t)}\\tag{12}$$\n",
    "\n",
    "The flux of mass through a surface, i.e. the mass current density, has two causes. One is the convection by the underlying flow to transport $c_\\alpha$ and the second is diffusion. Assuming that both transports occur independently we have:\n",
    "\n",
    "$$\\vb{J}_\\alpha=\\vb{J}_\\alpha^\\text{conv}+\\vb{J}_\\alpha^\\text{diff}=\\rho_\\alpha \\vb{u}+\\vb{J}_\\alpha^\\text{diff}=c_\\alpha\\,\\rho\\vb{u}+\\vb{J}_\\alpha^\\text{diff}\\tag{13}$$\n",
    "\n",
    "We can now integrate over a fixed volume in space Eq. (10) similar to Eqs. (9) & (10) in chapter [Material Derivative, Gaussian Divergence Theorem and Conservation of Mass](Material%20Derivative,%20Gaussian%20Divergence%20Theorem%20and%20Conservation%20of%20Mass.ipynb) but now with the extra current density/mass flow rate.\n",
    "\n",
    "\n",
    "\\begin{eqnarray}\n",
    "\\int_\\Omega \\pad{(c_\\alpha\\rho)}{t}\\dd \\vb{x}&=&-\\int_{\\partial\\Omega} \\vb{n}\\cdot\\left(c_\\alpha\\,\\rho\\vb{u}(\\vb{x},t)+\\vb{J}_\\alpha^\\text{diff} \\right)\\dd A\\\\\n",
    "&=&-\\int_\\Omega \\nabla\\cdot\\left(c_\\alpha\\,\\rho\\vb{u}(\\vb{x},t)+\\vb{J}_\\alpha^\\text{diff} \\right)\\dd \\vb{x}\\tag{14}\n",
    "\\end{eqnarray}\n",
    "\n",
    "Eq. (14) must hold for all Volumes $\\Omega$, thus the kernel of both integrands must equate to zero:\n",
    "\n",
    "$$\n",
    "\\pad{(c_\\alpha\\rho)}{t}=-\\nabla\\cdot\\left(c_\\alpha\\,\\rho\\vb{u}(\\vb{x},t)+\\vb{J}_\\alpha^\\text{diff} \\right)\\tag{15}$$\n",
    "\n",
    "By use of Eq. (10) we can simplify Eq. (15) to \n",
    "\n",
    "$$\\rho\\left[\\pad{c_\\alpha}{t}+\\vb{u}\\cdot\\nabla\\,c_\\alpha\\right]=-\\nabla\\cdot \\vb{J}_\\alpha^\\text{diff}\\quad . \\tag{16}$$\n",
    "\n",
    "Let us now use Fick's 1st law for the diffusional transport\n",
    "\n",
    "$$\\vb{J}_\\alpha^\\text{diff}=-D_\\alpha\\rho\\,\\nabla c_\\alpha\\tag{17}$$\n",
    "\n",
    "Assuming solutes at low concentration thus we can neglect their effect on density of the fluid, we can insert Eq. (17) into Eq.(16) and obtain a *convection diffusion equation*:\n",
    "\n",
    "$$\\pad{c_\\alpha}{t}+\\vb{u}\\cdot\\nabla c_\\alpha = D_\\alpha\\,\\nabla^2 c_\\alpha\\tag{18}$$\n",
    "\n",
    "where $D_\\alpha$ is the diffusion constant of the solute $\\alpha$ in the solvent. "
   ]
  },
  {
   "cell_type": "markdown",
   "metadata": {},
   "source": [
    "## Diffusion Equation\n",
    "\n",
    "We now consider the most simple case of a single solute and the velocity field of the solvent $\\vb{u}=0$. Then Eq. (18) simplifies to \n",
    "$$\\pad{c}{t}=D\\,\\nabla^2 c\\quad .\\tag{19}$$\n",
    "\n",
    "Assuming a length scale $L_0$ and a time scale $T_0$ dimensional analysis results of Eq. (19) reveals that they are connected as\n",
    "\n",
    "$$L_0=\\sqrt{D T_0}$$\n",
    "\n",
    "or\n",
    "\n",
    "$$T_0=\\frac{L_0^2}{D}\\quad .$$\n",
    "\n",
    "The diffusion constant thus determines how fast the concentration $c(\\vb{x},t)$ diffuses a certain distance. Typical values of $D$ are $D\\approx2\\,\\cdot 10^{-9}\\,$m$^2/$s for small ions of gas molecules in water, and decrease for longer molecules, i.e. $D\\approx 4\\,\\cdot 10^{-11}\\,$m$^2/$s for 30-base-pair DNA in water, and $D\\approx 1\\,\\cdot 10^{-12}\\,$m$^2/$s for 5000-base-pair DNA in water.\n",
    "\n",
    "Vice versa we can ask which time it takes for a molecule to be transporated a distance say $L_0=100\\,\\mu$m for the above 3 diffusion constants. These times are $5\\,$s for small ions, $4\\,$min for the short DNA and $4\\,$h for the large DNA in water.\n",
    "\n",
    "\n",
    "### Solution limited point-source diffusion\n",
    "\n",
    "Consider a point like ink droplet positioned at time $t=0$ at location $r=0$ in a tank of infinite water. The initial concentration is\n",
    "\n",
    "$$c(r,t=0)=N_0\\delta(r)\\quad ,$$\n",
    "\n",
    "where $N_0$ is the number of ink molecules and the Dirac delta function is 0 for all $r\\ne 0$ and $\\int_0^\\infty \\delta(r)\\pi r^2\\dd r=1$.\n",
    "\n",
    "The solution to the concentration of dye molecules is \n",
    "\n",
    "$$c(r,t>0)=\\frac{N_0}{\\left(4\\pi\\,D\\, t\\right)^{3/2}}\\exp\\left(-\\frac{r^2}{4\\,D\\,t}\\right)\\tag{20}$$\n",
    "\n",
    "This is a limited diffusion example where the amount of solute is fixed. Check that Eq. (20) solves the diffusion Eq. (19) with the above initial condition."
   ]
  },
  {
   "cell_type": "code",
   "execution_count": 16,
   "metadata": {
    "hide_input": false
   },
   "outputs": [
    {
     "data": {
      "application/vnd.jupyter.widget-view+json": {
       "model_id": "8fd05b89bdb74bf1ad34e1e0ef6ffd96",
       "version_major": 2,
       "version_minor": 0
      },
      "text/plain": [
       "interactive(children=(FloatSlider(value=0.3, description='Time $t$', max=2.0, min=0.01), Output()), _dom_class…"
      ]
     },
     "metadata": {},
     "output_type": "display_data"
    }
   ],
   "source": [
    "\n",
    "D=1. #diffusion constant\n",
    "N0=1. #number of particles\n",
    "\n",
    "r = np.linspace(0., 4., 100)\n",
    "def plot_diff_r(t):\n",
    "    c=N0/(4.*np.pi*D*t)**1.5*np.exp(-r**2/(4.*D*t))\n",
    "    plt.plot(r,c)\n",
    "    plt.xlabel(r'r',size=18);plt.ylabel(r'c(r,t)',size=18);\n",
    "    plt.tick_params(labelsize=15);\n",
    "    plt.ylim(0.,0.5)\n",
    "\n",
    "interact(plot_diff_r,\\\n",
    "         t=widgets.FloatSlider(min=0.01,max=2,step=0.1,value=0.3,\\\n",
    "         description = r\"Time $t$\"));\n"
   ]
  },
  {
   "cell_type": "code",
   "execution_count": 14,
   "metadata": {
    "hide_input": false
   },
   "outputs": [
    {
     "data": {
      "application/vnd.jupyter.widget-view+json": {
       "model_id": "5c5b360094ac40fabc25569e818ce4c3",
       "version_major": 2,
       "version_minor": 0
      },
      "text/plain": [
       "interactive(children=(FloatSlider(value=0.3, description='Position $r$', max=2.0, min=0.1), Output()), _dom_cl…"
      ]
     },
     "metadata": {},
     "output_type": "display_data"
    }
   ],
   "source": [
    "\n",
    "D=1. #diffusion constant\n",
    "N0=1. #number of particles\n",
    "\n",
    "t = np.linspace(0.01, 4., 1000)\n",
    "def plot_diff_t(r):\n",
    "    c=N0/(4.*np.pi*D*t)**1.5*np.exp(-r**2/(4.*D*t))\n",
    "    plt.plot(t,c)\n",
    "    plt.xlabel(r't',size=18);plt.ylabel(r'c(r,t)',size=18);\n",
    "    plt.tick_params(labelsize=15);\n",
    "    plt.ylim(0.,0.5)\n",
    "\n",
    "interact(plot_diff_t, \\\n",
    "         r=widgets.FloatSlider(min=0.1,max=2,step=0.1,value=0.3,\\\n",
    "        description = \"Position $r$\"));\n"
   ]
  },
  {
   "cell_type": "markdown",
   "metadata": {},
   "source": [
    "### Solution constant planar diffusion\n",
    "\n",
    "Here we have a constant influx of solute maintained on one boundary. The semi-infinite half-space $x>0$ is filled with some liquid. At time $t=0$ a source in the half space $x<0$ injects molecules at the boundary plane $x=0$ such that the concentration remains constant, i.e. \n",
    "\n",
    "$$c(x=0,y,z,t>0)=c_0\\quad \\tag{21}$$\n",
    "\n",
    "The solution uses the complementary error function $\\text{erfc}(s)=1-2/\\sqrt{\\pi}\\int_0^s e^{-u^2} \\dd u=2/\\sqrt{\\pi}\\int_s^\\infty e^{-u^2} \\dd u$:\n",
    "\n",
    "$$c(x,t>0)=c_0\\text{erfc}\\left(\\frac{x}{\\sqrt{4\\,D\\,t}}\\right).$$\n",
    "\n",
    "Below you find implementation of the solution as a function of space $x$ and time $t$. "
   ]
  },
  {
   "cell_type": "code",
   "execution_count": 12,
   "metadata": {
    "hide_input": false
   },
   "outputs": [
    {
     "data": {
      "application/vnd.jupyter.widget-view+json": {
       "model_id": "bd6b90feb7d444b9a542ed466d8fe2bd",
       "version_major": 2,
       "version_minor": 0
      },
      "text/plain": [
       "interactive(children=(FloatSlider(value=0.3, description='Time $t$', max=10.0, min=0.1), Output()), _dom_class…"
      ]
     },
     "metadata": {},
     "output_type": "display_data"
    }
   ],
   "source": [
    "from scipy import special\n",
    "D=1. #diffusion constant\n",
    "c0=1. #number of particles\n",
    "\n",
    "x = np.linspace(0., 8., 100)\n",
    "def plot_diff_x(t):\n",
    "    c=c0*special.erfc(x/np.sqrt(4*D*t))\n",
    "    plt.plot(x,c)\n",
    "    plt.xlabel(r'x',size=18);plt.ylabel(r'c(x,t)',size=18);\n",
    "    plt.tick_params(labelsize=15);\n",
    "    plt.ylim(0.,1.)\n",
    "\n",
    "interact(plot_diff_x,\\\n",
    "         t=widgets.FloatSlider(min=0.1,max=10,step=0.1,value=0.3,\\\n",
    "         description = r\"Time $t$\"));\n"
   ]
  },
  {
   "cell_type": "code",
   "execution_count": 13,
   "metadata": {
    "hide_input": true
   },
   "outputs": [
    {
     "data": {
      "application/vnd.jupyter.widget-view+json": {
       "model_id": "d6d6c0e468584f30b205e750b2b2ac0e",
       "version_major": 2,
       "version_minor": 0
      },
      "text/plain": [
       "interactive(children=(FloatSlider(value=0.3, description='Space $x$', max=3.0, min=0.3), Output()), _dom_class…"
      ]
     },
     "metadata": {},
     "output_type": "display_data"
    }
   ],
   "source": [
    "D=1. #diffusion constant\n",
    "c0=1. #number of particles\n",
    "\n",
    "t = np.linspace(0.01, 8., 100)\n",
    "def plot_diff_t(x):\n",
    "    c=c0*special.erfc(x/np.sqrt(4*D*t))\n",
    "    plt.plot(t,c)\n",
    "    plt.xlabel(r't',size=18);plt.ylabel(r'c(x,t)',size=18);\n",
    "    plt.tick_params(labelsize=15);\n",
    "    plt.ylim(0.,1.)\n",
    "\n",
    "interact(plot_diff_t,\\\n",
    "         x=widgets.FloatSlider(min=0.3,max=3,step=0.1,value=0.3,\\\n",
    "         description = r\"Space $x$\"));\n"
   ]
  },
  {
   "cell_type": "markdown",
   "metadata": {},
   "source": [
    "### The H-filter: separation by diffusion\n",
    "\n",
    "<img src=\"pics/h-filter.png\" width=500px>\n",
    "\n",
    "This is microfluidic device that utilizes laminar (low Re-Number flow) and diffusion. The name comes form the particular shape of the filter as shown in the figure above. A pressure difference of $\\Delta p$ is applied on the left side, such that the liquid travels from left to right. While the solvent (dark gray) with small and large solutes are introduced from below, a pure buffer liquid (light gray) is flowing from the top.\n",
    "\n",
    "The channel width of all channels is $w$ and height $h\\ll w$.\n",
    "\n",
    "Assume some length and velocities, say $h=10\\,\\mu$m, $w=100\\,\\mu$m, the length of the channel $L=1\\,$mm, and the flow velocity is $u_0<1\\,$mm/s. The laminar flows cause no mixing of the two liquids and the average velocity is $u_0$.\n",
    "\n",
    "For the liquid passing through the H-filter two time scales are important, $t_\\text{conv}$ and $t_\\text{diff}$. The first times scale denotes the time for fluid to be convected downstream of the length $L$, and the diffusional time scale is the duration the solute needs to diffuse half the channel width. \n",
    "\n",
    "$$\n",
    "\\tau_\\text{conv}=\\frac{L}{v_0}$$\n",
    "\n",
    "and\n",
    "$$\n",
    "\\tau_\\text{diff}=\\frac{(\\frac{1}{2}w)^2}{D}=\\frac{w^2}{4D}$$\n",
    "\n",
    "When $\\tau_\\text{conv}\\ll \\tau_\\text{diff}$ diffusion has not enough time for solutes to cross from the solvent to the buffer liquid.\n",
    "When $\\tau_\\text{conv}\\approx \\tau_\\text{diff}$ the solute has time enough to diffuse and the concentration of the solute will be similar in the two liquids.\n",
    "\n",
    "Consequently operating the H-filter with *two* solutes and making sure that $\\tau_\\text{conv,1}\\ll \\tau_\\text{diff, 1}$ and  $\\tau_\\text{conv,2}\\approx \\tau_\\text{diff, 1}$ it is possible to separate out solute 2 from solute 1. \n",
    "\n",
    "Let us calculate, at which diffusion constant $D^*$ H-filter operates, i.e. that $\\tau_\\text{conv} = \\tau_\\text{diff}$\n",
    "\n",
    "$$D^*=\\frac{v_0\\,w^2}{4\\,L}$$\n",
    "\n",
    "Take some typical values of $w=100\\,\\mu$m, $L=1\\,$mm and $v_0=1\\,$mm/s we find $D^*=2.5\\cdot 10^{-9}\\,\\text{m}^2/$s.\n",
    "\n",
    "This is of the order of small ions in water. Thus it is possible to separate these from larger molecules using the H-filter.\n",
    "\n",
    "\n",
    "\n",
    "The solution of the diffusion problem is\n",
    "\\begin{equation}\n",
    "c(y,t)=\\frac { 1 }{ 2 } \\left[ 1-\\rm{erf}\\left(\\frac { 2y }{ \\sqrt{D\\,t}} \\right)\\right]\n",
    "\\end{equation} where $-w/2 \\le y \\le 0 +w/2$."
   ]
  },
  {
   "cell_type": "code",
   "execution_count": 15,
   "metadata": {
    "hide_input": false
   },
   "outputs": [
    {
     "data": {
      "application/vnd.jupyter.widget-view+json": {
       "model_id": "ca5cc96095144273afcbd092510a640b",
       "version_major": 2,
       "version_minor": 0
      },
      "text/plain": [
       "interactive(children=(FloatSlider(value=0.1, description='Time $t$', max=10.0, min=0.01), Output()), _dom_clas…"
      ]
     },
     "metadata": {},
     "output_type": "display_data"
    }
   ],
   "source": [
    "from scipy import special\n",
    "D=1. #diffusion constant\n",
    "c0=1. #number of particles\n",
    "\n",
    "y = np.linspace(-.5, .5, 100)\n",
    "def plot_diff_y(t):\n",
    "    c=.5*(1.-special.erf(2.*y/np.sqrt(D*t)))\n",
    "    plt.plot(y,c)\n",
    "    plt.xlabel(r'y',size=18);plt.ylabel(r'c(y,t)',size=18);\n",
    "    plt.tick_params(labelsize=15);\n",
    "    plt.ylim(0.,1.)\n",
    "\n",
    "interact(plot_diff_y,\\\n",
    "         t=widgets.FloatSlider(min=0.01,max=10,step=0.1,value=0.1,\\\n",
    "         description = r\"Time $t$\"));\n"
   ]
  },
  {
   "cell_type": "markdown",
   "metadata": {},
   "source": [
    "### Diffusion of a spherical particle\n",
    "\n",
    "Small spherical particles with radius $R$ undergo random diffusion or Brownian motion. The Einstein relation connects the diffusion constant to the parameters of the liquid and the sphere. A sphere moving with a velocity $\\vb{u}$ through a liquid of viscosity $\\mu$ experiences a Drag force $\\vb{F}_D$. Diffusion is caused by gradients in the density as stated by Fick's law \n",
    "\n",
    "$$\\vb{J}=\\vb{u}\\rho=-D\\nabla\\rho\\tag{22}$$\n",
    "\n",
    "that relates the mass flux/density current $\\vb{J}$ with the gradients and the diffusion constants. From thermodynamics we know the energy related to a specific configuration of molecules namely the chemical potential is\n",
    "\n",
    "$$\\mu_c=\\mu_{c0}+k_B T \\ln \\left( \\frac{\\rho}{\\rho_0}\\right)\\tag{23}$$\n",
    "Here $\\rho_0$ and $\\mu_{c0}$ are reference densities and potentials, respectively. \n",
    "\n",
    "At steady state the drag force on the particle is equal to the force created by the chemical potential, $\\vb{F}_\\text{diff}=-\\nabla \\mu_c$, thus\n",
    "\n",
    "$$\\vb{F}_D=6\\pi\\mu R U=-\\nabla \\mu_c=-k_B\\,T\\frac{\\nabla \\rho}{\\rho}\\quad .\\tag{24}$$\n",
    "\n",
    "We can use the density current in Eq. (22) to simplify Eq. (24) and we obtain the Einstein relation \n",
    "\n",
    "$$D=\\frac{k_B\\,T}{6\\pi\\,\\mu\\,R}.\\tag{25}$$\n",
    "\n",
    "This equation connects the molecular properties with the fluid mechanics of Stokes. It is therefore also named Einstein-Stokes relation."
   ]
  }
 ],
 "metadata": {
  "kernelspec": {
   "display_name": "Python 3",
   "language": "python",
   "name": "python3"
  },
  "language_info": {
   "codemirror_mode": {
    "name": "ipython",
    "version": 3
   },
   "file_extension": ".py",
   "mimetype": "text/x-python",
   "name": "python",
   "nbconvert_exporter": "python",
   "pygments_lexer": "ipython3",
   "version": "3.8.5"
  }
 },
 "nbformat": 4,
 "nbformat_minor": 2
}
