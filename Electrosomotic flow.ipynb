{
 "cells": [
  {
   "cell_type": "markdown",
   "metadata": {},
   "source": [
    "$$\n",
    "\\newcommand{\\fudm}[2]{\\frac{\\mathrm{D} #1}{\\mathrm{D} #2}}\n",
    "\\newcommand{\\pad}[2]{\\frac{\\partial #1}{\\partial #2}}\n",
    "\\newcommand{\\ppad}[2]{\\frac{\\partial^2 #1}{\\partial #2^2}}\n",
    "\\newcommand{\\ppadd}[3]{\\frac{\\partial^2 #1}{\\partial #2 \\partial #3}}\n",
    "\\newcommand{\\nnabla}{\\nabla^2}\n",
    "\\newcommand{\\eps}{\\epsilon}\n",
    "\\newcommand{\\vdetail}[1]{\\vb{#1}=\\begin{pmatrix}#1_1\\\\#1_2\\\\#1_3\\end{pmatrix}}\n",
    "\\newcommand{\\vb}[1]{\\mathbf{#1}}\n",
    "\\newcommand{\\va}[1]{\\vec{#1}}\n",
    "\\newcommand{\\vc}[1]{\\begin{pmatrix}#1_1\\\\#1_2\\end{pmatrix}}\n",
    "\\newcommand{\\vd}[1]{\\begin{pmatrix}#1_1\\\\#1_2\\\\#1_3\\end{pmatrix}}\n",
    "\\newcommand{\\tb}[1]{\\underline{\\underline{\\mathbf{#1}}}}\n",
    "\\newcommand{\\fud}[2]{\\frac{\\mathrm{d} #1}{\\mathrm{d} #2}}\n",
    "\\newcommand{\\dd}{\\mathrm{d}}\n",
    "$$"
   ]
  },
  {
   "cell_type": "markdown",
   "metadata": {},
   "source": [
    "# Electrohydroynamic & Electroosmosis\n",
    "\n",
    "## Extension of the Navier Stoke Equation\n",
    "\n",
    "An obvious extension of the N.S. Equation that includes electric effects is through an additional body force\n",
    "\n",
    "\n",
    "$$\\rho \\fudm{\\vb{u}}{t} = -\\nabla p  + \\eta \\nabla^2 \\vb{u}+ \\rho \\vb{g} +\\rho_{el}\\,\\vb{E}\\quad .\\tag{1}$$\n",
    "\n",
    "Note that in this Notebook we use the symbol $\\eta$ for viscosity and $\\mu$ for chemical potentials, see below."
   ]
  },
  {
   "cell_type": "markdown",
   "metadata": {},
   "source": [
    "The additional body force applies on the electric charges in the liquid.  Ignoring magnetic fields and radiative (EM waves) effect, the Maxwell Equation for the $E$-field (Farady's induction law) simplifies to \n",
    "\n",
    "$$\\nabla \\times \\vb{E}=0$$\n",
    "\n",
    "Thus the electric field can be derived from a scalar field (Gauss law)\n",
    "\n",
    "$$\\vb{E}=-\\nabla\\phi\\quad .\\tag{2}$$\n",
    "\n",
    "Note that for the electric field we use a minus sign, while for the velocity field we use the plus sign. Electric charges are the sources of the electric field, which is described with the Poisson equation\n",
    "\n",
    "$$\\nabla^2\\phi(\\vb{r})=-\\frac{1}{\\eps}\\rho_\\text{el}(\\vb{r})\\quad ,\\tag{3}$$\n",
    "\n",
    "where $\\eps$ is the permittivity (polarizability) of the medium, $\\eps=\\eps_r\\,\\eps_0$."
   ]
  },
  {
   "cell_type": "markdown",
   "metadata": {},
   "source": [
    "## Electrophoresis\n",
    "\n",
    "Consider a spherical particle with charge $Z\\,e$ in an electric field $\\vb{E}$.\n",
    "\n",
    "<img src=\"pics/electrophoresis.png\" width=450px>\n",
    "\n",
    "On the particle acts the electric force\n",
    "\n",
    "$$\\vb{F}_\\text{el}=Z\\,e\\,\\vb{E}\\tag{4}$$\n",
    "\n",
    "Due to viscosity ($Re=0$) the objects moves with a constant velocity, thus\n",
    "\n",
    "$$\\vb{F}_\\text{tot}=\\vb{F}_\\text{el}+\\vb{F}_\\text{drag}=0\\quad\\rightarrow\\quad\\vb{u}_\\text{ep}=\\frac{Z e}{6\\pi\\eta a}\\vb{E}=\\mu_\\text{ion}\\vb{E}$$\n",
    "\n",
    "Here the velocity is propotional to the electric field (thus the potential) and the constant is name ion mobility $\\mu_\\text{ion}$. This depends on the size and charge of the object. This simple model of a spherical object agrees very well with measurements and allows to separate ionic substances. \n",
    "\n",
    "\n",
    "## Debye layer near charged surfaces\n",
    "\n",
    "Consider an electrolyte in contact with a solid surface, e.g. microfluidic walls or a macroscopic particle suspended in a microfluidic flow. The surface is charged and the electrolyt ions of opposite charge (the counterions) are attracted to the wall. The co-ions are repelled.\n",
    "\n",
    "The chemical potential is the energy required to add an ion to a system.  Assuming the valence of the co- and counterions being $\\pm Z$ we have a chemical potential of\n",
    "\n",
    "$$\\mu_\\pm(\\vb{r})=\\mu_0+k_B\\,T\\ln\\left(\\frac{c_\\pm(\\vb{r})}{c_0}\\right)\\pm Z\\,e\\,\\phi(\\vb{r})\n",
    "$$\n",
    "\n",
    "At thermodynamic equilibrium the chemical potential is contant throughout the system, i.e. $\\mu_\\pm(\\vb{r})\\equiv 0$ thus:\n",
    "\n",
    "$$k_B\\,T\\nabla\\ln\\left(\\frac{c_\\pm(\\vb{r})}{c_0}\\right)=\\mp Z\\,e\\,\\nabla\\phi(\\vb{r})\\quad ,\\tag{5}\n",
    "$$\n",
    "\n",
    "with the following boundary conditions\n",
    "\n",
    "$$c_\\pm(\\infty)=c_0,\\quad \\phi(\\infty)=0,\\quad \\phi(\\text{surf})=\\zeta .\\tag{6}$$\n",
    "\n",
    "We can integrate Eq.(5) using the B.C. (6) and obtain\n",
    "\n",
    "$$c_\\pm(\\vb{r})=c_0\\exp\\left[\\mp\\frac{Z\\,e}{k_B\\,T}\\phi(\\vb{r})\\right]\\quad .\\tag{7}$$\n",
    "\n",
    "The charge density is just the concentration multiplied by the valence, i.e.\n",
    "\n",
    "$$\\rho_\\text{el}(\\vb{r})=Z\\,e\\left[ c_+(\\vb{r})- c_-(\\vb{r})\\right]=-2\\,Z e\\,c_0\\,\\sinh\\left[\\frac{Z\\,e}{k_B\\,T}\\,\\phi(\\vb{r})\\right]\\tag{8}$$\n",
    "\n",
    "To find the electric potential we have to solve the Poisson Eq. (3) by inserting the charge distribution $\\rho_\\text{el}$, namely\n",
    "\n",
    "$$\\nabla^2\\,\\phi(\\vb{r})=-\\frac{1}{\\eps}\\rho_\\text{el}(\\vb{r})=2\\frac{Z e}{\\eps}\\,\\sinh\\left[\\frac{Z\\,e}{k_B\\,T}\\,\\phi(\\vb{r})\\right]\\quad .\\tag{9}$$\n",
    "\n",
    "Equation (9) can be solved only in very simple geometries analytically. One of these solutions is for a planar surface $xy$-plane, and the electrolyte is occupying a half plane $z>0$. Because of symmetry the solution is then only a function of $z$ and is called the Gouy-Chapman solution:\n",
    "\n",
    "$$\n",
    "\\phi(z)=\\frac{4 k_B T}{Z e}\\text{arctanh}\\left[\\tanh \\left(\\frac{Z e \\zeta}{4 k_B T} \\right) \\exp\\left(-\\frac{z}{\\lambda_D}\\right)\\right]\\tag{10}\n",
    "$$\n",
    "\n",
    "where \n",
    "$$\n",
    "\\lambda_D\\equiv\\sqrt{\\frac{\\eps k_B T}{2 (Z e)^2\\,c_0}}\\tag{11}\n",
    "$$\n",
    "\n",
    "is the so-called Debye length. For water at room temperature this value is\n",
    "\n",
    "$$\\lambda_D \\approx \\sqrt{\\frac{1\\,\\text{mM}}{Z^2\\,c_0}}\\cdot 9.6\\,\\text{nm}\\tag{12}$$\n",
    "\n"
   ]
  },
  {
   "cell_type": "code",
   "execution_count": 1,
   "metadata": {
    "hide_input": false
   },
   "outputs": [
    {
     "data": {
      "application/vnd.jupyter.widget-view+json": {
       "model_id": "25f4d702761547c5abc2108c33cf3033",
       "version_major": 2,
       "version_minor": 0
      },
      "text/plain": [
       "aW50ZXJhY3RpdmUoY2hpbGRyZW49KEZsb2F0U2xpZGVyKHZhbHVlPTAuMDIsIGRlc2NyaXB0aW9uPXUnJFxcemV0YVxcLFxcdGV4dHtbVl19JCcsIG1heD0wLjEsIG1pbj0wLjAxLCBzdGVwPTDigKY=\n"
      ]
     },
     "metadata": {},
     "output_type": "display_data"
    }
   ],
   "source": [
    "%matplotlib inline \n",
    "import matplotlib.pyplot as plt\n",
    "import numpy as np\n",
    "import math\n",
    "from ipywidgets import interact\n",
    "import ipywidgets as widgets\n",
    "\n",
    "\n",
    "kBT=1.38e-23*293.\n",
    "Z=1.\n",
    "e=1.6e-19\n",
    "\n",
    "def plot_phi(zeta,c0, log):\n",
    "    l_d=9.6e-9*np.sqrt(1./c0)\n",
    "    z=np.linspace(0.,100e-9,100)\n",
    "    phi=4*kBT/Z/e*np.arctanh(np.tanh(Z*e*zeta/(4*kBT))*np.exp(-z/l_d))\n",
    "    phi_db=zeta*np.exp(-z/l_d)\n",
    "    plt.plot(z*1e9,phi*1e3,label='Goy-Chapman')\n",
    "    plt.plot(z*1e9,phi_db*1e3,label='Debye Hueckel');\n",
    "    \n",
    "    plt.ylabel(r'$\\phi\\,$(mV)')\n",
    "    plt.xlabel(r'$z\\,$(nm)')\n",
    "    plt.plot([l_d*1e9,l_d*1e9],[phi[-1]*1e3,zeta*1e3],'k-.',label=r'$\\lambda_D$')\n",
    "    if log>0:\n",
    "        plt.yscale('log')\n",
    "    plt.legend()\n",
    "\n",
    "interact(plot_phi,\\\n",
    "        zeta = widgets.FloatSlider(min = 0.01, max = 0.1, step = 0.01, value = 0.02,\\\n",
    "                                    description = r\"$\\zeta\\,\\text{[V]}$\"),\n",
    "        c0 = widgets.FloatSlider(min = 0.1, max = 10, step = 0.1, value = 1.,\\\n",
    "                                    description = r\"$c_0\\,\\text{[mMol]}$\"),\n",
    "        log =  widgets.IntSlider(min=0, max = 1, step=1, value =0, description = r\"lin[0] log[1]\")\n",
    "        );"
   ]
  },
  {
   "cell_type": "markdown",
   "metadata": {},
   "source": [
    "<img src=\"pics/debeye_layer.png\" width=600px>\n",
    "\n",
    "\n",
    "## Debye-Hückel approximation\n",
    "\n",
    "We can find simpler solutions to the Poisson equation under the approximation that electric energy is much weaker than the thermal energy:\n",
    "\n",
    "$$Z\\,e\\zeta \\ll k_B T\\tag{13}$$\n",
    "\n",
    "which is only valid for $\\zeta \\ll 26\\,\\text{mV}$\n",
    "\n",
    "Then Eq.(8) can be after Taylor expansion approximated as $\\sinh(u) \\approx u$ and inserted into into Eq.(9) we obtain a simplified Poisson equation\n",
    "\n",
    "$$\n",
    "\\nabla^2\\phi(\\vb{r})=2\\frac{(Ze)^2\\,c_0}{\\eps k_B T}\\,\\phi(\\vb{r})=\\frac{1}{\\lambda_D^2}\\,\\phi(\\vb{r}).\\tag{14}\n",
    "$$\n",
    "\n",
    "For our planar problem for $z>0$ and surface potential $\\phi(z=0)=\\zeta$ we obtain now a simple differential equation\n",
    "\n",
    "$$\\ppad{\\phi(z)}{z}=\\frac{1}{\\lambda^2_D}\\phi(z)\\tag{15}$$\n",
    "\n",
    "with the solution for $z>0$\n",
    "\n",
    "$$\\phi(z)=\\zeta \\,\\exp\\left[-\\frac{z}{\\lambda_D}\\right]\\quad .\\tag{16}\n",
    "$$\n",
    "\n",
    "With the potential we can calculate through the Poisson Eq. (3) the charge distribution\n",
    "\n",
    "$$\\rho_\\text{el}=-\\eps \\ppad{\\phi(z)}{z}=-\\frac{\\eps \\zeta}{\\lambda^2_D}\\,\\exp\\left[-\\frac{z}{\\lambda_D}\\right]\\tag{17}$$\n",
    "\n",
    "The concentrations are then found through Eq. (7). Here we make use of smallness of the $\\zeta$-Potential that allows to make a Taylor approximation of the exponential function in Eq. (7):\n",
    "\n",
    "$$c_\\pm(z)=c_0\\left[1\\mp\\frac{Z e \\zeta}{k_B T}\\exp\\left(-\\frac{z}{\\lambda_D}\\right)\\right] \\quad . \\tag{18}$$\n",
    "\n",
    "We clearly see how the co-ions are surpressed at the interface and the counterions are enhanced.\n",
    "\n",
    "### Solution for a parallel-plate channel\n",
    "\n",
    "An infinitly long parallel plate channel can also be solved with analytically. The surfaces are located at positions $z=\\pm h/2$. The potential again depends only on $z$ and is given by (15) but now with the boundary conditions $\\phi(\\pm h/2)=\\zeta$. As this problem is symmetric with respect to $z=0$, thus we will have instead of the exponential function a $\\cosh$-function. The solution reads\n",
    "\n",
    "$$\\phi(z)=\\zeta\\frac{\\cosh\\left(z/\\lambda_D\\right)}{\\cosh\\left(h/(2 \\lambda_D)\\right)}\\quad .\\tag{19}$$\n",
    "\n",
    "Again the charge distribution can be obtained from the Poisson Equation (3) and is\n",
    "\n",
    "$$\\rho_\\text{el}(z)=-\\frac{\\eps\\,\\zeta}{\\lambda_D^2}\\frac{\\cosh\\left(z/\\lambda_D\\right)}{\\cosh\\left(h/(2 \\lambda_D)\\right)}\\quad .\\tag{20}$$\n",
    "\n",
    "\n",
    "With this solution we can start modeling the electro-osmotic. In electro-osmosis a liquid is moving relative to a charged surface by an applied external potential gradient $\\nabla\\phi_\\text{ext}$. In the ideal case two electrodes are located at each end of the channel. Charge seperation at the walls leads to a Debye layer as described by Eqs. (19) and (29).\n",
    "\n",
    "<img src=\"pics/electro_osmosis.png\" width=550px>\n",
    "\n",
    "Let us now add a DC potential difference $\\Delta V=\\Delta \\phi_\\text{ext}$, thus we have an external electric field of\n",
    "\n",
    "$$\\vb{E}_\\text{ext}=-\\nabla\\phi_\\text{ext}\\quad . \\tag{21}$$\n",
    "\n",
    "This electric field exters a body force $\\rho_\\text{el}^\\text{eq} \\vb{E}_\\text{ext}$ on the Debye layer, which begins to move and drags through viscosity the rest of the liquid (neutral bulk) along. If the charge at the electrodes is removed, for example through electrochemical processes, electric current continue and thereby continously drag the fluid. Let us now derive the resulting electro-osmotic velocity field in the liquid."
   ]
  },
  {
   "cell_type": "markdown",
   "metadata": {},
   "source": [
    "For this several assumptions go in. First the external potential does not affectt the charge density. Also the $\\zeta$-potential is constant along the wall, the electric field is homogeneous, the flow is steady state, and the Debye length $\\lambda_D$ is much smaller than the half width of the channel $h/2\\gg \\lambda_D$. Let us first write the N.S. Eq. (1) in absence of gravity:\n",
    "\n",
    "$$\\rho \\fudm{\\vb{u}}{t} = -\\nabla p_\\text{ext}  + \\eta \\nabla^2 \\vb{u} -\\rho^\\text{eq}_{el}\\,\\nabla \\phi_\\text{ext}\\quad .\\tag{22}$$\n",
    "\n",
    "Symmetry of this problem dictates the following structure of the fields:\n",
    "\n",
    "\\begin{eqnarray}\n",
    "\\nabla\\phi_\\text{ext}(\\vb{r})&=&-\\vb{E}=E\\,\\vb{e}_x\\tag{23a}\\\\\n",
    "\\nabla p_\\text{ext}(\\vb{r})&=&0\\tag{23b}\\\\\n",
    "\\vb{u}(\\vb{r})&=&u_x(z)\\,\\vb{e}_x\\tag{23c}\n",
    "\\end{eqnarray}\n",
    "\n",
    "Thus we have only to look at the $x$-component of the steady state N.S. equation:\n",
    "\n",
    "$$\n",
    "    0=\\eta\\,\\ppad{u_x(z)}{z}+\\left[\\eps \\ppad{\\phi_\\text{eq}}{z}\\right]\\,E\\quad .\\tag{24}\n",
    "$$\n",
    "\n",
    "or rewritten\n",
    "\n",
    "$$\n",
    "\\ppad{}{z}\\left[ u_x(z) + \\frac{\\eps \\, E}{\\eta}\\phi_\\text{eq}(z)\\right]\\tag{25}\n",
    "$$\n",
    "\n",
    "The boundary conditions that the velocity at the walls must vanish $u_x(z=\\pm h/2)=0$ dictate a velocity field of\n",
    "\n",
    "$$u_x(z)=\\left[\\zeta-\\phi_\\text{eq}(z)\\right]\\frac{e\\,E}{\\eta}\\tag{26}\\quad .$$\n",
    "\n",
    "Inserting our above solution (19) the velocity profile is\n",
    "\n",
    "$$\n",
    "u_x(z)=\\left[1-\\frac{\\cosh\\left(z/\\lambda_D\\right)}{\\cosh\\left(h/(2 \\lambda_D)\\right)}\\right]\\,u_\\text{eo}\\quad ,\\tag{27}$$\n",
    "\n",
    "where we have introduced the electro-osmotic velocity maximum\n",
    "\n",
    "$$u_\\text{eo}=\\frac{e\\,\\zeta}{\\eta}\\,E \\tag{28}$$\n",
    "\n",
    "If we devide this quantity with the electric field we obtain some EO mobility\n",
    "\n",
    "$$\\mu_\\text{eo}=\\frac{u_\\text{eo}}{E}=\\frac{\\eps\\,\\zeta}{\\nu}\n",
    "$$\n",
    "\n",
    "Let's insert some typical values for EO flows with $\\zeta=100\\,$mV. $\\eta=81\\eps_0$ and $\\eta=0.001\\,$Pa s, then we obtain for the EO mobility $\\mu_\\text{eo}\\approx 7\\cdot10^{-8}\\,$m$^2\\,$V$^{-1}$s$^{-1}$. Generating electric fields in in microfluidics of the order of $10^4\\,$V/m is easily achievable. Thus we can expects electric $u_\\text{eo}\\approx 1\\,$mm$\\,$s$^{-1}$."
   ]
  },
  {
   "cell_type": "code",
   "execution_count": 7,
   "metadata": {
    "hide_input": true
   },
   "outputs": [
    {
     "data": {
      "image/jpeg": "[encoded data removed]",
      "text/html": [
       "\n",
       "        <iframe\n",
       "            width=\"400\"\n",
       "            height=\"300\"\n",
       "            src=\"https://www.youtube.com/embed/bTJKFN3y80o\"\n",
       "            frameborder=\"0\"\n",
       "            allowfullscreen\n",
       "        ></iframe>\n",
       "        "
      ],
      "text/plain": [
       "<IPython.lib.display.YouTubeVideo at 0x107783050>"
      ]
     },
     "metadata": {},
     "output_type": "display_data"
    },
    {
     "data": {
      "image/jpeg": "[encoded data removed]",
      "text/html": [
       "\n",
       "        <iframe\n",
       "            width=\"400\"\n",
       "            height=\"300\"\n",
       "            src=\"https://www.youtube.com/embed/zzVa_tX1OiI\"\n",
       "            frameborder=\"0\"\n",
       "            allowfullscreen\n",
       "        ></iframe>\n",
       "        "
      ],
      "text/plain": [
       "<IPython.lib.display.YouTubeVideo at 0x1077831d0>"
      ]
     },
     "metadata": {},
     "output_type": "display_data"
    }
   ],
   "source": [
    "from IPython.display import YouTubeVideo\n",
    "\n",
    "vid1 = YouTubeVideo(\"bTJKFN3y80o\")\n",
    "display(vid1)\n",
    "vid2 = YouTubeVideo(\"zzVa_tX1OiI\")\n",
    "display(vid2)\n"
   ]
  }
 ],
 "metadata": {
  "kernelspec": {
   "display_name": "Python [default]",
   "language": "python",
   "name": "python2"
  },
  "language_info": {
   "codemirror_mode": {
    "name": "ipython",
    "version": 2
   },
   "file_extension": ".py",
   "mimetype": "text/x-python",
   "name": "python",
   "nbconvert_exporter": "python",
   "pygments_lexer": "ipython2",
   "version": "2.7.14"
  }
 },
 "nbformat": 4,
 "nbformat_minor": 2
}
