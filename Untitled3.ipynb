{
 "cells": [
  {
   "cell_type": "markdown",
   "metadata": {},
   "source": [
    "### Bernoulli\n",
    "\n",
    "Using Bernoulli calculate the velocity at the exit of a container. The flow is driven by gravity."
   ]
  },
  {
   "cell_type": "markdown",
   "metadata": {},
   "source": [
    "### Microfluidics\n",
    "\n",
    "Read the paper \"Microfluidic pressure sensing using trapped air compression\" and anwser the following questions\n",
    "1. How are the microfluidic channels generated. Why was that technique chosen over a soft lithographic process with PDMS?\n",
    "2. What is the range of Reynoldsnumber in the channel, i.e. for Figure 4.\n",
    "3. How big is the contribution of the capillary pressure as compared to the dynamic pressure.\n"
   ]
  },
  {
   "cell_type": "markdown",
   "metadata": {},
   "source": [
    "### Ideal Flow and Bernoulli\n",
    "Plot the flow field of point sources at a distance $l$ apart.\n",
    "Calculate the pressure field and plot the pressure as contours.\n"
   ]
  }
 ],
 "metadata": {
  "kernelspec": {
   "display_name": "Python [conda env:mypython3]",
   "language": "python",
   "name": "conda-env-mypython3-py"
  },
  "language_info": {
   "codemirror_mode": {
    "name": "ipython",
    "version": 3
   },
   "file_extension": ".py",
   "mimetype": "text/x-python",
   "name": "python",
   "nbconvert_exporter": "python",
   "pygments_lexer": "ipython3",
   "version": "3.7.3"
  }
 },
 "nbformat": 4,
 "nbformat_minor": 2
}
