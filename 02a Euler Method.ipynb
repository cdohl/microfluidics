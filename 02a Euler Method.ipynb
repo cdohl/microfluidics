{
 "cells": [
  {
   "cell_type": "markdown",
   "metadata": {
    "donotlatex": true,
    "hide_input": true
   },
   "source": [
    "$$\n",
    "\\newcommand{\\fudm}[2]{\\frac{\\mathrm{D} #1}{\\mathrm{D} #2}}\n",
    "\\newcommand{\\pad}[2]{\\frac{\\partial #1}{\\partial #2}}\n",
    "\\newcommand{\\ppad}[2]{\\frac{\\partial^2 #1}{\\partial #2^2}}\n",
    "\\newcommand{\\ppadd}[3]{\\frac{\\partial^2 #1}{\\partial #2 \\partial #3}}\n",
    "\\newcommand{\\nnabla}{\\nabla^2}\n",
    "\\newcommand{\\eps}{\\epsilon}\n",
    "\\newcommand{\\vdetail}[1]{\\vb{#1}=\\begin{pmatrix}#1_1\\\\#1_2\\\\#1_3\\end{pmatrix}}\n",
    "\\newcommand{\\vb}[1]{\\mathbf{#1}}\n",
    "\\newcommand{\\va}[1]{\\vec{#1}}\n",
    "\\newcommand{\\tb}[1]{\\underline{\\underline{\\mathbf{#1}}}}\n",
    "\\newcommand{\\fud}[2]{\\frac{\\mathrm{d} #1}{\\mathrm{d} #2}}\n",
    "$$"
   ]
  },
  {
   "cell_type": "markdown",
   "metadata": {},
   "source": [
    "# Euler Method for Pathline Calculations\n",
    "\n",
    "In the previous lecture we showed how to solve analyticaly for the pathline from a given velocity field $\\vb{u}(\\vb{x},t)$. There we have to solve the ordinary differential equation (ODE)\n",
    "\n",
    "$$\\fud{\\vb{X}}{t}=\\vb{u}(\\vb{x},t)\\tag{1}$$.\n",
    "\n",
    "This may be possible for some simple flow fields, for flow fields which are obtained experimentally or which are more complex (speak non-linear) we are left with an approximate solution of the ODE.\n",
    "\n",
    "In this chapter we'll have a look into a numerical method to calculate the pathline using the Euler Method. It is based on the idea that differential can be approximated by a finite difference, i.e.\n",
    "\n",
    "$$\\fud{\\vb{X}}{t}=\\lim_{\\Delta t\\rightarrow 0}\\frac{\\vb{X}(t+\\Delta t)-\\vb{X}(t)}{\\Delta t}\\tag{2}$$.\n",
    "\n",
    "$$\\fud{\\vb{X}}{t}\\simeq\\frac{\\vb{X}(t+\\Delta t)-\\vb{X}(t)}{\\Delta t}=\\fud{\\vb{X}}{t}+O(\\Delta t)\\tag{3}$$\n",
    "\n",
    "The very right hand side of above equation states that we make at maximum an error of order $\\Delta t$ by introducing the finite difference approximation. This fact can be derived using a Taylor series approximation.\n",
    "\n",
    "The Euler method utilizes the observation of Euler that for small enough time steps $\\Delta t$ the differential equation can be approximated by the finite difference. Although we do not obtain the exact solution, we may be sufficiently close to it if the time step is sufficiently small (we keep it here with the vague formulation).\n",
    "\n",
    "We can now write one forward time step in components\n",
    "\n",
    "\\begin{eqnarray}\n",
    "X_1(t+\\Delta t) & =& X_1(t)+\\Delta t \\, u_1(X_1(t),X_2(t),X_3(t),t)\\\\\n",
    "X_2(t+\\Delta t) & =& X_2(t)+\\Delta t \\, u_2(X_1(t),X_2(t),X_3(t),t)\\\\\n",
    "X_3(t+\\Delta t) & =& X_3(t)+\\Delta t \\, u_3(X_1(t),X_2(t),X_3(t),t)\n",
    "\\end{eqnarray}\n",
    "\n"
   ]
  },
  {
   "cell_type": "markdown",
   "metadata": {},
   "source": [
    "Before we start with implementing the Euler method we need to provide a function which returns the velocity at the position $\\vb{x}$. We define this function <code>velocity(x1,x2,t)</code> below.\n",
    "\n",
    "The velocity field we want to plot is\n",
    "\n",
    "\\begin{eqnarray}\n",
    "u_1 & = & g x_1 - \\omega x_2 \\\\\n",
    "u_2 & = & -g x_1 + \\omega x_2 \n",
    "\\end{eqnarray}\n",
    "\n",
    "where $g$ and $\\omega$ are constants. "
   ]
  },
  {
   "cell_type": "code",
   "execution_count": 24,
   "metadata": {},
   "outputs": [],
   "source": [
    "#standard boilerplate for Python\n",
    "%matplotlib inline \n",
    "import numpy as np\n",
    "import matplotlib.pylab as plt\n",
    "import math\n",
    "\n",
    "#This is our velocity function\n",
    "def velocity(x1, x2, t):\n",
    "    omega = 1\n",
    "    g = 0.5\n",
    "    u1 = g*x1-omega*x2\n",
    "    u2 = -g*x2+omega*x1\n",
    "\n",
    "    return u1, u2\n",
    "\n",
    "#This is our velocity function\n",
    "def velocity(x1, x2, t):\n",
    "    a = 0.01\n",
    "    \n",
    "    u1 = a*x1\n",
    "    u2 = -a*x2\n",
    "\n",
    "    return u1, u2\n",
    "\n"
   ]
  },
  {
   "cell_type": "markdown",
   "metadata": {},
   "source": [
    "Now we put the Euler Method to work:"
   ]
  },
  {
   "cell_type": "code",
   "execution_count": 34,
   "metadata": {},
   "outputs": [
    {
     "data": {
      "image/png": "[encoded data removed]",
      "text/plain": [
       "<Figure size 432x288 with 1 Axes>"
      ]
     },
     "metadata": {
      "needs_background": "light"
     },
     "output_type": "display_data"
    }
   ],
   "source": [
    "nt = 300 #number of steps\n",
    "deltat = 0.2 #step size\n",
    "\n",
    "x10 = 0.3 #initial position \n",
    "x20 = 1.\n",
    "x1 = np.zeros(nt) #thats where we store the result\n",
    "x2 = np.zeros(nt)\n",
    "x1[0] = x10  #insert the initial conditions\n",
    "x2[0] = x20\n",
    "\n",
    "for n in range(nt-1):\n",
    "    t = deltat*n\n",
    "    u1, u2 = velocity(x1[n],x2[n],t) #get velocity at that position \n",
    "\n",
    "    #This is the Euler step\n",
    "    x1[n+1] = x1[n]+deltat*u1 #update the position\n",
    "    x2[n+1] = x2[n]+deltat*u2\n",
    "\n",
    "plt.plot(x1,x2);\n",
    "plt.xlabel('$x_1$'),plt.ylabel('$x_2$');\n"
   ]
  },
  {
   "cell_type": "markdown",
   "metadata": {},
   "source": [
    "The flow field should return closed pathlines, you can check by reducing the time steps that better approximations are achieved."
   ]
  },
  {
   "cell_type": "markdown",
   "metadata": {},
   "source": [
    "The Euler method assumes that the velocity is not changing during the step, yet the velocity is a continous function of space and time. Therefore the step size needs to be small, to keep also the these changes in the velocity field small. We can now improve the Euler method, by using not the velocity of the initial point in space $\\vb{x}(t)$, but by using the average of the velocity at point $\\vb{x}(t)$ and at point $\\vb{x}(t+\\Delta t)$. Then the new position of the pathline is  \n",
    "\n",
    "$$\\vb{x}(t+\\Delta t)=\\vb{x}(t)+\\Delta t\\,\\vb{u}_{avg}\\tag{9}$$\n",
    "\n",
    "where the average velocity is\n",
    "\n",
    "$$\\vb{u}_{avg}=\\frac{1}{2}\\left(\\vb{u}(\\vb{x},t)+\\vb{u}(\\vb{x}(t+\\Delta t),t+\\Delta t)\\right).\\tag{10}$$\n"
   ]
  },
  {
   "cell_type": "code",
   "execution_count": 35,
   "metadata": {},
   "outputs": [
    {
     "data": {
      "image/png": "[encoded data removed]",
      "text/plain": [
       "<Figure size 432x288 with 1 Axes>"
      ]
     },
     "metadata": {
      "needs_background": "light"
     },
     "output_type": "display_data"
    }
   ],
   "source": [
    "nt=3000 #number of steps\n",
    "deltat=0.2 #step size\n",
    "\n",
    "\n",
    "x10 = 0.3 #initial position \n",
    "x20 = 1.\n",
    "x1=np.zeros(nt) #thats where we store the result\n",
    "x2=np.zeros(nt)\n",
    "x1[0]=x10  #instert the initial conditions\n",
    "x2[0]=x20\n",
    "\n",
    "for n in range(nt-1):\n",
    "    t=deltat*n\n",
    "    u1,u2=velocity(x1[n],x2[n],t) #get velocity at that position\n",
    "    \n",
    "    #what would be the velocity at the new position\n",
    "    x1_pred=x1[n]+deltat*u1 \n",
    "    x2_pred=x2[n]+deltat*u2\n",
    "    u1_pred,u2_pred=velocity(x1_pred,x2_pred,t+deltat) \n",
    "    \n",
    "    #a better approximation is the averaged velocity\n",
    "    u1_avg=.5*(u1+u1_pred)\n",
    "    u2_avg=.5*(u2+u2_pred)\n",
    "    \n",
    "    #Do the Euler step with the averaged velocity\n",
    "    x1[n+1]=x1[n]+deltat*u1_avg\n",
    "    x2[n+1]=x2[n]+deltat*u2_avg\n",
    "    \n",
    "    \n",
    "plt.plot(x1,x2);\n",
    "plt.xlabel('$x_1$'),plt.ylabel('$x_2$');\n"
   ]
  },
  {
   "cell_type": "markdown",
   "metadata": {},
   "source": [
    "Now we achieve closed path lines with less time steps but at the costs of one more Euler step per time step."
   ]
  },
  {
   "cell_type": "code",
   "execution_count": null,
   "metadata": {},
   "outputs": [],
   "source": []
  }
 ],
 "metadata": {
  "kernelspec": {
   "display_name": "Python 3 (ipykernel)",
   "language": "python",
   "name": "python3"
  },
  "language_info": {
   "codemirror_mode": {
    "name": "ipython",
    "version": 3
   },
   "file_extension": ".py",
   "mimetype": "text/x-python",
   "name": "python",
   "nbconvert_exporter": "python",
   "pygments_lexer": "ipython3",
   "version": "3.9.12"
  },
  "latex_metadata": {
   "affiliation": "SPMS/PAP, NTU, Singapore",
   "author": "Claus-Dieter Ohl",
   "title": "PH3501 - 2a Euler Method"
  }
 },
 "nbformat": 4,
 "nbformat_minor": 1
}
